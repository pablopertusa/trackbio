{
 "cells": [
  {
   "cell_type": "markdown",
   "metadata": {},
   "source": [
    "# Selección de animal a estudiar"
   ]
  },
  {
   "cell_type": "code",
   "execution_count": 6,
   "metadata": {},
   "outputs": [],
   "source": [
    "import polars as pl"
   ]
  },
  {
   "cell_type": "code",
   "execution_count": null,
   "metadata": {},
   "outputs": [],
   "source": [
    "schema = {\n",
    "    \"individual_id\": pl.String,\n",
    "    \"date\": pl.String,\n",
    "    \"decimal_longitude\": pl.Float64,\n",
    "    \"decimal_latitude\": pl.Float64,\n",
    "    \"year\": pl.Int32,\n",
    "    \"month\": pl.Int8,\n",
    "    \"day\": pl.Int8,\n",
    "    \"hour\": pl.Int8,\n",
    "}\n",
    "\n",
    "tracking = pl.read_csv(\"../../data/foca_procesado.csv\", schema=schema)\n",
    "tracking = (\n",
    "    tracking\n",
    "    .with_columns(\n",
    "        pl.col(\"date\").str.strptime(pl.Datetime, format=\"%Y-%m-%dT%H:%M:%S\")\n",
    "    )\n",
    ")\n",
    "tracking = tracking.sort(by = \"date\")\n",
    "tracking = tracking.filter(pl.col(\"decimal_longitude\") >= -90).filter(pl.col(\"decimal_longitude\") <= 90) # Quitar outliers\n",
    "tracking = tracking.filter(pl.col(\"year\") >= 2005) # Quitar algunos años para que el dataset se pueda tratar en local"
   ]
  },
  {
   "cell_type": "code",
   "execution_count": 8,
   "metadata": {},
   "outputs": [],
   "source": [
    "max_latitude = tracking[\"decimal_latitude\"].max()\n",
    "max_longitude = tracking[\"decimal_longitude\"].max()\n",
    "min_latitude = tracking[\"decimal_latitude\"].min()\n",
    "min_longitude = tracking[\"decimal_longitude\"].min()"
   ]
  },
  {
   "cell_type": "code",
   "execution_count": 9,
   "metadata": {},
   "outputs": [],
   "source": [
    "box = pl.DataFrame({\"max_latitude\": max_latitude, \"min_latitude\": min_latitude, \"max_longitude\": max_longitude, \"min_longitude\": min_longitude})\n",
    "box.write_csv(\"../../data/world_box.csv\")"
   ]
  },
  {
   "cell_type": "code",
   "execution_count": 10,
   "metadata": {},
   "outputs": [],
   "source": [
    "temp = pl.DataFrame({\"first\": [1, 0], \"day\": [tracking.head(1)[\"date\"].to_list()[0].day, tracking.tail(1)[\"date\"].to_list()[0].day], \n",
    "                                              \"month\": [tracking.head(1)[\"date\"].to_list()[0].month, tracking.tail(1)[\"date\"].to_list()[0].month], \n",
    "                                                        \"year\": [tracking.head(1)[\"date\"].to_list()[0].year, tracking.tail(1)[\"date\"].to_list()[0].year]})\n",
    "temp.write_csv(\"../../data/temporal_subset.csv\")"
   ]
  }
 ],
 "metadata": {
  "kernelspec": {
   "display_name": "proy3",
   "language": "python",
   "name": "python3"
  },
  "language_info": {
   "codemirror_mode": {
    "name": "ipython",
    "version": 3
   },
   "file_extension": ".py",
   "mimetype": "text/x-python",
   "name": "python",
   "nbconvert_exporter": "python",
   "pygments_lexer": "ipython3",
   "version": "3.12.9"
  }
 },
 "nbformat": 4,
 "nbformat_minor": 2
}
