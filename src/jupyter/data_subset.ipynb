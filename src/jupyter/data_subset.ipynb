{
 "cells": [
  {
   "cell_type": "markdown",
   "metadata": {},
   "source": [
    "# Selección de animal a estudiar"
   ]
  },
  {
   "cell_type": "code",
   "execution_count": 24,
   "metadata": {},
   "outputs": [],
   "source": [
    "import polars as pl"
   ]
  },
  {
   "cell_type": "code",
   "execution_count": 25,
   "metadata": {},
   "outputs": [],
   "source": [
    "tracking = pl.read_csv(\"../../data/foca_procesado.csv\")"
   ]
  },
  {
   "cell_type": "code",
   "execution_count": 26,
   "metadata": {},
   "outputs": [],
   "source": [
    "tracking = tracking.with_columns(\n",
    "    pl.col(\"date\").str.strptime(pl.Datetime, format=\"%Y-%m-%d %H:%M:%S\")\n",
    ")\n",
    "tracking = tracking.sort(by = \"date\")"
   ]
  },
  {
   "cell_type": "markdown",
   "metadata": {},
   "source": [
    "Nos vamos a quedar con los datos de días consecutivos porque es necesario para el modelo"
   ]
  },
  {
   "cell_type": "code",
   "execution_count": 27,
   "metadata": {},
   "outputs": [],
   "source": [
    "def longest_consecutive_days(df):\n",
    "\n",
    "    unique_dates = df.select('date').unique().sort(by='date')['date'].to_list()\n",
    "\n",
    "    # Encontrar la secuencia más larga de días consecutivos\n",
    "    max_streak = 0\n",
    "    current_streak = 1\n",
    "    start_date = unique_dates[0]\n",
    "    best_start, best_end = start_date, start_date\n",
    "    \n",
    "    for i in range(1, len(unique_dates)):\n",
    "        if (unique_dates[i] - unique_dates[i - 1]).days <= 1:\n",
    "            current_streak += 1\n",
    "        else:\n",
    "            if current_streak > max_streak:\n",
    "                max_streak = current_streak\n",
    "                best_start, best_end = start_date, unique_dates[i - 1]\n",
    "            current_streak = 1\n",
    "            start_date = unique_dates[i]\n",
    "    \n",
    "    if current_streak > max_streak:\n",
    "        max_streak = current_streak\n",
    "        best_start, best_end = start_date, unique_dates[-1]\n",
    "    \n",
    "    return max_streak, best_start, best_end"
   ]
  },
  {
   "cell_type": "code",
   "execution_count": 28,
   "metadata": {},
   "outputs": [],
   "source": [
    "max_streak, best_start, best_end = longest_consecutive_days(tracking)"
   ]
  },
  {
   "cell_type": "code",
   "execution_count": 29,
   "metadata": {},
   "outputs": [],
   "source": [
    "tracking_filtered = tracking.filter(pl.col(\"date\") >= best_start).filter(pl.col(\"date\") <= best_end)"
   ]
  },
  {
   "cell_type": "code",
   "execution_count": 30,
   "metadata": {},
   "outputs": [],
   "source": [
    "max_latitude = tracking[\"decimal_latitude\"].max()\n",
    "max_longitude = tracking[\"decimal_longitude\"].max()\n",
    "min_latitude = tracking[\"decimal_latitude\"].min()\n",
    "min_longitude = tracking[\"decimal_longitude\"].min()"
   ]
  },
  {
   "cell_type": "code",
   "execution_count": 31,
   "metadata": {},
   "outputs": [],
   "source": [
    "box = pl.DataFrame({\"max_latitude\": max_latitude, \"min_latitude\": min_latitude, \"max_longitude\": max_longitude, \"min_longitude\": min_longitude})\n",
    "box.write_csv(\"../../data/world_box.csv\")"
   ]
  },
  {
   "cell_type": "code",
   "execution_count": 32,
   "metadata": {},
   "outputs": [],
   "source": [
    "temp = pl.DataFrame({\n",
    "    \"first\": [1, 0],\n",
    "    \"day\": [\n",
    "        best_start.day,\n",
    "        best_end.day\n",
    "    ],\n",
    "    \"month\": [\n",
    "        best_start.month,\n",
    "        best_end.month\n",
    "    ],\n",
    "    \"year\": [\n",
    "        best_start.year,\n",
    "        best_end.year\n",
    "    ]\n",
    "})\n",
    "\n",
    "temp.write_csv(\"../../data/temporal_subset.csv\")"
   ]
  }
 ],
 "metadata": {
  "kernelspec": {
   "display_name": "proy3",
   "language": "python",
   "name": "python3"
  },
  "language_info": {
   "codemirror_mode": {
    "name": "ipython",
    "version": 3
   },
   "file_extension": ".py",
   "mimetype": "text/x-python",
   "name": "python",
   "nbconvert_exporter": "python",
   "pygments_lexer": "ipython3",
   "version": "3.12.9"
  }
 },
 "nbformat": 4,
 "nbformat_minor": 2
}
