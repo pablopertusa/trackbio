{
 "cells": [
  {
   "cell_type": "markdown",
   "metadata": {},
   "source": [
    "# Selección de animal a estudiar"
   ]
  },
  {
   "cell_type": "code",
   "execution_count": 1,
   "metadata": {},
   "outputs": [],
   "source": [
    "import polars as pl"
   ]
  },
  {
   "cell_type": "code",
   "execution_count": 2,
   "metadata": {},
   "outputs": [],
   "source": [
    "tracking = pl.read_csv(\"../../data/animals.csv\")"
   ]
  },
  {
   "cell_type": "code",
   "execution_count": 3,
   "metadata": {},
   "outputs": [],
   "source": [
    "tracking = tracking.sort(by = \"date\")"
   ]
  },
  {
   "cell_type": "code",
   "execution_count": 4,
   "metadata": {},
   "outputs": [],
   "source": [
    "max_latitude = tracking[\"decimal_latitude\"].max()\n",
    "max_longitude = tracking[\"decimal_longitude\"].max()\n",
    "min_latitude = tracking[\"decimal_latitude\"].min()\n",
    "min_longitude = tracking[\"decimal_longitude\"].min()"
   ]
  },
  {
   "cell_type": "code",
   "execution_count": 5,
   "metadata": {},
   "outputs": [],
   "source": [
    "box = pl.DataFrame({\"max_latitude\": max_latitude, \"min_latitude\": min_latitude, \"max_longitude\": max_longitude, \"min_longitude\": min_longitude})\n",
    "box.write_csv(\"../../data/world_box.csv\")"
   ]
  },
  {
   "cell_type": "code",
   "execution_count": 6,
   "metadata": {},
   "outputs": [],
   "source": [
    "from datetime import datetime\n",
    "\n",
    "temp = pl.DataFrame({\"first\": [1, 0], \"day\": [datetime.strptime(tracking.head(1)[\"date\"].to_list()[0], \"%Y-%m-%d %H:%M:%S\").day, datetime.strptime(tracking.tail(1)[\"date\"].to_list()[0], \"%Y-%m-%d %H:%M:%S\").day], \n",
    "                                              \"month\": [datetime.strptime(tracking.head(1)[\"date\"].to_list()[0], \"%Y-%m-%d %H:%M:%S\").month, datetime.strptime(tracking.tail(1)[\"date\"].to_list()[0], \"%Y-%m-%d %H:%M:%S\").month], \n",
    "                                                        \"year\": [datetime.strptime(tracking.head(1)[\"date\"].to_list()[0], \"%Y-%m-%d %H:%M:%S\").year, datetime.strptime(tracking.tail(1)[\"date\"].to_list()[0], \"%Y-%m-%d %H:%M:%S\").year]})\n",
    "temp.write_csv(\"../../data/temporal_subset.csv\")"
   ]
  }
 ],
 "metadata": {
  "kernelspec": {
   "display_name": "proy3",
   "language": "python",
   "name": "python3"
  },
  "language_info": {
   "codemirror_mode": {
    "name": "ipython",
    "version": 3
   },
   "file_extension": ".py",
   "mimetype": "text/x-python",
   "name": "python",
   "nbconvert_exporter": "python",
   "pygments_lexer": "ipython3",
   "version": "3.12.9"
  }
 },
 "nbformat": 4,
 "nbformat_minor": 2
}
