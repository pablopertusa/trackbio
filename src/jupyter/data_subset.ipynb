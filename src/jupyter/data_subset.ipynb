{
 "cells": [
  {
   "cell_type": "markdown",
   "metadata": {},
   "source": [
    "# Selección de animal a estudiar"
   ]
  },
  {
   "cell_type": "code",
   "execution_count": 23,
   "metadata": {},
   "outputs": [],
   "source": [
    "import polars as pl"
   ]
  },
  {
   "cell_type": "code",
   "execution_count": 24,
   "metadata": {},
   "outputs": [],
   "source": [
    "tracking = pl.read_csv(\"../../data/foca_procesado.csv\")\n",
    "tracking = (\n",
    "    tracking\n",
    "    .with_columns(\n",
    "        pl.col(\"date\").str.strptime(pl.Datetime, format=\"%Y-%m-%dT%H:%M:%S\")\n",
    "    )\n",
    ")\n",
    "tracking = tracking.sort(by = \"date\")"
   ]
  },
  {
   "cell_type": "code",
   "execution_count": 25,
   "metadata": {},
   "outputs": [],
   "source": [
    "max_latitude = tracking[\"decimal_latitude\"].max()\n",
    "max_longitude = tracking[\"decimal_longitude\"].max()\n",
    "min_latitude = tracking[\"decimal_latitude\"].min()\n",
    "min_longitude = tracking[\"decimal_longitude\"].min()"
   ]
  },
  {
   "cell_type": "code",
   "execution_count": 26,
   "metadata": {},
   "outputs": [],
   "source": [
    "box = pl.DataFrame({\"max_latitude\": max_latitude, \"min_latitude\": min_latitude, \"max_longitude\": max_longitude, \"min_longitude\": min_longitude})\n",
    "box.write_csv(\"../../data/world_box.csv\")"
   ]
  },
  {
   "cell_type": "code",
   "execution_count": 27,
   "metadata": {},
   "outputs": [],
   "source": [
    "from datetime import datetime\n",
    "\n",
    "temp = pl.DataFrame({\"first\": [1, 0], \"day\": [tracking.head(1)[\"date\"].to_list()[0].day, tracking.tail(1)[\"date\"].to_list()[0].day], \n",
    "                                              \"month\": [tracking.head(1)[\"date\"].to_list()[0].month, tracking.tail(1)[\"date\"].to_list()[0].month], \n",
    "                                                        \"year\": [tracking.head(1)[\"date\"].to_list()[0].year, tracking.tail(1)[\"date\"].to_list()[0].year]})\n",
    "temp.write_csv(\"../../data/temporal_subset.csv\")"
   ]
  }
 ],
 "metadata": {
  "kernelspec": {
   "display_name": "proy3",
   "language": "python",
   "name": "python3"
  },
  "language_info": {
   "codemirror_mode": {
    "name": "ipython",
    "version": 3
   },
   "file_extension": ".py",
   "mimetype": "text/x-python",
   "name": "python",
   "nbconvert_exporter": "python",
   "pygments_lexer": "ipython3",
   "version": "3.12.9"
  }
 },
 "nbformat": 4,
 "nbformat_minor": 2
}
