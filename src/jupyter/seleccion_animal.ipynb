{
 "cells": [
  {
   "cell_type": "markdown",
   "metadata": {},
   "source": [
    "# Extracción datos copernicus"
   ]
  },
  {
   "cell_type": "code",
   "execution_count": 3,
   "metadata": {},
   "outputs": [],
   "source": [
    "import polars as pl"
   ]
  },
  {
   "cell_type": "code",
   "execution_count": 4,
   "metadata": {},
   "outputs": [],
   "source": [
    "# El dataset original está eliminado localmente, ahora no funcionará\n",
    "tracking = pl.scan_csv(\"../../data/dataset_proy.csv\", separator=\"\\t\")\n",
    "tracking = tracking.filter(pl.col(\"species\") == \"Eudyptes chrysolophus\") # Aquí seleccionamos la especie que queremos\n",
    "pingüino = tracking.collect()"
   ]
  },
  {
   "cell_type": "code",
   "execution_count": 10,
   "metadata": {},
   "outputs": [
    {
     "data": {
      "text/html": [
       "<div><style>\n",
       ".dataframe > thead > tr,\n",
       ".dataframe > tbody > tr {\n",
       "  text-align: right;\n",
       "  white-space: pre-wrap;\n",
       "}\n",
       "</style>\n",
       "<small>shape: (5, 6)</small><table border=\"1\" class=\"dataframe\"><thead><tr><th>species</th><th>decimalLongitude</th><th>decimalLatitude</th><th>day</th><th>month</th><th>year</th></tr><tr><td>str</td><td>f64</td><td>f64</td><td>i64</td><td>i64</td><td>i64</td></tr></thead><tbody><tr><td>&quot;Eudyptes chrysolophus&quot;</td><td>-38.27327</td><td>-53.415171</td><td>1</td><td>1</td><td>1999</td></tr><tr><td>&quot;Eudyptes chrysolophus&quot;</td><td>-38.375685</td><td>-53.487934</td><td>1</td><td>1</td><td>1999</td></tr><tr><td>&quot;Eudyptes chrysolophus&quot;</td><td>-38.22533</td><td>-53.582872</td><td>1</td><td>1</td><td>1999</td></tr><tr><td>&quot;Eudyptes chrysolophus&quot;</td><td>-38.416233</td><td>-53.3911</td><td>1</td><td>1</td><td>1999</td></tr><tr><td>&quot;Eudyptes chrysolophus&quot;</td><td>-38.318103</td><td>-53.486283</td><td>1</td><td>1</td><td>1999</td></tr></tbody></table></div>"
      ],
      "text/plain": [
       "shape: (5, 6)\n",
       "┌───────────────────────┬──────────────────┬─────────────────┬─────┬───────┬──────┐\n",
       "│ species               ┆ decimalLongitude ┆ decimalLatitude ┆ day ┆ month ┆ year │\n",
       "│ ---                   ┆ ---              ┆ ---             ┆ --- ┆ ---   ┆ ---  │\n",
       "│ str                   ┆ f64              ┆ f64             ┆ i64 ┆ i64   ┆ i64  │\n",
       "╞═══════════════════════╪══════════════════╪═════════════════╪═════╪═══════╪══════╡\n",
       "│ Eudyptes chrysolophus ┆ -38.27327        ┆ -53.415171      ┆ 1   ┆ 1     ┆ 1999 │\n",
       "│ Eudyptes chrysolophus ┆ -38.375685       ┆ -53.487934      ┆ 1   ┆ 1     ┆ 1999 │\n",
       "│ Eudyptes chrysolophus ┆ -38.22533        ┆ -53.582872      ┆ 1   ┆ 1     ┆ 1999 │\n",
       "│ Eudyptes chrysolophus ┆ -38.416233       ┆ -53.3911        ┆ 1   ┆ 1     ┆ 1999 │\n",
       "│ Eudyptes chrysolophus ┆ -38.318103       ┆ -53.486283      ┆ 1   ┆ 1     ┆ 1999 │\n",
       "└───────────────────────┴──────────────────┴─────────────────┴─────┴───────┴──────┘"
      ]
     },
     "execution_count": 10,
     "metadata": {},
     "output_type": "execute_result"
    }
   ],
   "source": [
    "pingüino = pingüino.select([\"species\", \"decimalLongitude\", \"decimalLatitude\", \"day\", \"month\", \"year\", ]).sort(by = [\"year\", \"month\", \"day\"])\n",
    "pingüino.head()"
   ]
  },
  {
   "cell_type": "code",
   "execution_count": 6,
   "metadata": {},
   "outputs": [],
   "source": [
    "max_latitude = pingüino[\"decimalLatitude\"].max()\n",
    "max_longitude = pingüino[\"decimalLongitude\"].max()\n",
    "min_latitude = pingüino[\"decimalLatitude\"].min()\n",
    "min_longitude = pingüino[\"decimalLongitude\"].min()"
   ]
  },
  {
   "cell_type": "code",
   "execution_count": 7,
   "metadata": {},
   "outputs": [],
   "source": [
    "box = pl.DataFrame({\"max_latitude\": max_latitude, \"min_latitude\": min_latitude, \"max_longitude\": max_longitude, \"min_longitude\": min_longitude})\n",
    "box.write_csv(\"../../data/world_box.csv\")"
   ]
  },
  {
   "cell_type": "code",
   "execution_count": 8,
   "metadata": {},
   "outputs": [],
   "source": [
    "pingüino.write_csv(\"../../data/penguin_data.csv\")"
   ]
  },
  {
   "cell_type": "code",
   "execution_count": 9,
   "metadata": {},
   "outputs": [],
   "source": [
    "temp = pl.DataFrame({\"first\": [1, 0], \"day\": [pingüino.head(1)[\"day\"].to_list()[0], pingüino.tail(1)[\"day\"].to_list()[0]], \"month\": [pingüino.head(1)[\"month\"].to_list()[0], pingüino.tail(1)[\"month\"].to_list()[0]], \"year\": [pingüino.head(1)[\"year\"].to_list()[0], pingüino.tail(1)[\"year\"].to_list()[0]]})\n",
    "temp.write_csv(\"../../data/temporal_subset.csv\")"
   ]
  }
 ],
 "metadata": {
  "kernelspec": {
   "display_name": "proy3",
   "language": "python",
   "name": "python3"
  },
  "language_info": {
   "codemirror_mode": {
    "name": "ipython",
    "version": 3
   },
   "file_extension": ".py",
   "mimetype": "text/x-python",
   "name": "python",
   "nbconvert_exporter": "python",
   "pygments_lexer": "ipython3",
   "version": "3.12.9"
  }
 },
 "nbformat": 4,
 "nbformat_minor": 2
}
