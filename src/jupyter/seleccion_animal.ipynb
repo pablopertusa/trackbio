{
 "cells": [
  {
   "cell_type": "markdown",
   "metadata": {},
   "source": [
    "# Selección de animal a estudiar"
   ]
  },
  {
   "cell_type": "code",
   "execution_count": 13,
   "metadata": {},
   "outputs": [],
   "source": [
    "import polars as pl"
   ]
  },
  {
   "cell_type": "code",
   "execution_count": 14,
   "metadata": {},
   "outputs": [],
   "source": [
    "tracking = pl.read_csv(\"../../data/animals.csv\")"
   ]
  },
  {
   "cell_type": "code",
   "execution_count": 15,
   "metadata": {},
   "outputs": [
    {
     "data": {
      "text/html": [
       "<div><style>\n",
       ".dataframe > thead > tr,\n",
       ".dataframe > tbody > tr {\n",
       "  text-align: right;\n",
       "  white-space: pre-wrap;\n",
       "}\n",
       "</style>\n",
       "<small>shape: (39_090, 7)</small><table border=\"1\" class=\"dataframe\"><thead><tr><th>individual_id</th><th>abbreviated_name</th><th>date</th><th>decimal_longitude</th><th>decimal_latitude</th><th>longitude_se</th><th>latitude_se</th></tr><tr><td>str</td><td>str</td><td>str</td><td>f64</td><td>f64</td><td>f64</td><td>f64</td></tr></thead><tbody><tr><td>&quot;CR1_15_A05333_1&quot;</td><td>&quot;MAPE&quot;</td><td>&quot;2011-12-16 03:11:26&quot;</td><td>37.858515</td><td>-46.961301</td><td>0.000259</td><td>0.000259</td></tr><tr><td>&quot;CR1_15_A05333_1&quot;</td><td>&quot;MAPE&quot;</td><td>&quot;2011-12-16 04:11:26&quot;</td><td>37.858516</td><td>-46.961418</td><td>0.000184</td><td>0.000194</td></tr><tr><td>&quot;CR1_15_A05333_1&quot;</td><td>&quot;MAPE&quot;</td><td>&quot;2011-12-16 05:11:26&quot;</td><td>37.858416</td><td>-46.961228</td><td>0.000193</td><td>0.000205</td></tr><tr><td>&quot;CR1_15_A05333_1&quot;</td><td>&quot;MAPE&quot;</td><td>&quot;2011-12-16 06:11:26&quot;</td><td>37.874981</td><td>-46.975574</td><td>0.00028</td><td>0.000287</td></tr><tr><td>&quot;CR1_15_A05333_1&quot;</td><td>&quot;MAPE&quot;</td><td>&quot;2011-12-16 07:11:26&quot;</td><td>37.90737</td><td>-46.976766</td><td>0.022064</td><td>0.006978</td></tr><tr><td>&hellip;</td><td>&hellip;</td><td>&hellip;</td><td>&hellip;</td><td>&hellip;</td><td>&hellip;</td><td>&hellip;</td></tr><tr><td>&quot;MAPE-dtsetBirdLife751-Y5-RAATD&quot;</td><td>&quot;MAPE&quot;</td><td>&quot;2001-12-25 09:32:00&quot;</td><td>-38.511765</td><td>-53.823311</td><td>0.008177</td><td>0.004498</td></tr><tr><td>&quot;MAPE-dtsetBirdLife751-Y5-RAATD&quot;</td><td>&quot;MAPE&quot;</td><td>&quot;2001-12-25 11:32:00&quot;</td><td>-38.373306</td><td>-53.83027</td><td>0.011187</td><td>0.00552</td></tr><tr><td>&quot;MAPE-dtsetBirdLife751-Y5-RAATD&quot;</td><td>&quot;MAPE&quot;</td><td>&quot;2001-12-25 13:32:00&quot;</td><td>-38.214757</td><td>-53.862338</td><td>0.01099</td><td>0.004794</td></tr><tr><td>&quot;MAPE-dtsetBirdLife751-Y5-RAATD&quot;</td><td>&quot;MAPE&quot;</td><td>&quot;2001-12-25 15:32:00&quot;</td><td>-38.098708</td><td>-53.94059</td><td>0.018326</td><td>0.013798</td></tr><tr><td>&quot;MAPE-dtsetBirdLife751-Y5-RAATD&quot;</td><td>&quot;MAPE&quot;</td><td>&quot;2001-12-25 17:32:00&quot;</td><td>-38.011245</td><td>-54.025605</td><td>0.015269</td><td>0.008258</td></tr></tbody></table></div>"
      ],
      "text/plain": [
       "shape: (39_090, 7)\n",
       "┌──────────────┬─────────────┬─────────────┬─────────────┬─────────────┬─────────────┬─────────────┐\n",
       "│ individual_i ┆ abbreviated ┆ date        ┆ decimal_lon ┆ decimal_lat ┆ longitude_s ┆ latitude_se │\n",
       "│ d            ┆ _name       ┆ ---         ┆ gitude      ┆ itude       ┆ e           ┆ ---         │\n",
       "│ ---          ┆ ---         ┆ str         ┆ ---         ┆ ---         ┆ ---         ┆ f64         │\n",
       "│ str          ┆ str         ┆             ┆ f64         ┆ f64         ┆ f64         ┆             │\n",
       "╞══════════════╪═════════════╪═════════════╪═════════════╪═════════════╪═════════════╪═════════════╡\n",
       "│ CR1_15_A0533 ┆ MAPE        ┆ 2011-12-16  ┆ 37.858515   ┆ -46.961301  ┆ 0.000259    ┆ 0.000259    │\n",
       "│ 3_1          ┆             ┆ 03:11:26    ┆             ┆             ┆             ┆             │\n",
       "│ CR1_15_A0533 ┆ MAPE        ┆ 2011-12-16  ┆ 37.858516   ┆ -46.961418  ┆ 0.000184    ┆ 0.000194    │\n",
       "│ 3_1          ┆             ┆ 04:11:26    ┆             ┆             ┆             ┆             │\n",
       "│ CR1_15_A0533 ┆ MAPE        ┆ 2011-12-16  ┆ 37.858416   ┆ -46.961228  ┆ 0.000193    ┆ 0.000205    │\n",
       "│ 3_1          ┆             ┆ 05:11:26    ┆             ┆             ┆             ┆             │\n",
       "│ CR1_15_A0533 ┆ MAPE        ┆ 2011-12-16  ┆ 37.874981   ┆ -46.975574  ┆ 0.00028     ┆ 0.000287    │\n",
       "│ 3_1          ┆             ┆ 06:11:26    ┆             ┆             ┆             ┆             │\n",
       "│ CR1_15_A0533 ┆ MAPE        ┆ 2011-12-16  ┆ 37.90737    ┆ -46.976766  ┆ 0.022064    ┆ 0.006978    │\n",
       "│ 3_1          ┆             ┆ 07:11:26    ┆             ┆             ┆             ┆             │\n",
       "│ …            ┆ …           ┆ …           ┆ …           ┆ …           ┆ …           ┆ …           │\n",
       "│ MAPE-dtsetBi ┆ MAPE        ┆ 2001-12-25  ┆ -38.511765  ┆ -53.823311  ┆ 0.008177    ┆ 0.004498    │\n",
       "│ rdLife751-Y5 ┆             ┆ 09:32:00    ┆             ┆             ┆             ┆             │\n",
       "│ -RAATD       ┆             ┆             ┆             ┆             ┆             ┆             │\n",
       "│ MAPE-dtsetBi ┆ MAPE        ┆ 2001-12-25  ┆ -38.373306  ┆ -53.83027   ┆ 0.011187    ┆ 0.00552     │\n",
       "│ rdLife751-Y5 ┆             ┆ 11:32:00    ┆             ┆             ┆             ┆             │\n",
       "│ -RAATD       ┆             ┆             ┆             ┆             ┆             ┆             │\n",
       "│ MAPE-dtsetBi ┆ MAPE        ┆ 2001-12-25  ┆ -38.214757  ┆ -53.862338  ┆ 0.01099     ┆ 0.004794    │\n",
       "│ rdLife751-Y5 ┆             ┆ 13:32:00    ┆             ┆             ┆             ┆             │\n",
       "│ -RAATD       ┆             ┆             ┆             ┆             ┆             ┆             │\n",
       "│ MAPE-dtsetBi ┆ MAPE        ┆ 2001-12-25  ┆ -38.098708  ┆ -53.94059   ┆ 0.018326    ┆ 0.013798    │\n",
       "│ rdLife751-Y5 ┆             ┆ 15:32:00    ┆             ┆             ┆             ┆             │\n",
       "│ -RAATD       ┆             ┆             ┆             ┆             ┆             ┆             │\n",
       "│ MAPE-dtsetBi ┆ MAPE        ┆ 2001-12-25  ┆ -38.011245  ┆ -54.025605  ┆ 0.015269    ┆ 0.008258    │\n",
       "│ rdLife751-Y5 ┆             ┆ 17:32:00    ┆             ┆             ┆             ┆             │\n",
       "│ -RAATD       ┆             ┆             ┆             ┆             ┆             ┆             │\n",
       "└──────────────┴─────────────┴─────────────┴─────────────┴─────────────┴─────────────┴─────────────┘"
      ]
     },
     "execution_count": 15,
     "metadata": {},
     "output_type": "execute_result"
    }
   ],
   "source": [
    "tracking"
   ]
  },
  {
   "cell_type": "code",
   "execution_count": 16,
   "metadata": {},
   "outputs": [
    {
     "data": {
      "text/html": [
       "<div><style>\n",
       ".dataframe > thead > tr,\n",
       ".dataframe > tbody > tr {\n",
       "  text-align: right;\n",
       "  white-space: pre-wrap;\n",
       "}\n",
       "</style>\n",
       "<small>shape: (39_090, 7)</small><table border=\"1\" class=\"dataframe\"><thead><tr><th>individual_id</th><th>abbreviated_name</th><th>date</th><th>decimal_longitude</th><th>decimal_latitude</th><th>longitude_se</th><th>latitude_se</th></tr><tr><td>str</td><td>str</td><td>str</td><td>f64</td><td>f64</td><td>f64</td><td>f64</td></tr></thead><tbody><tr><td>&quot;MAPE-dtsetBirdLife751-X7-RAATD…</td><td>&quot;MAPE&quot;</td><td>&quot;1999-01-01 03:51:00&quot;</td><td>-38.171266</td><td>-53.620754</td><td>0.009801</td><td>0.00322</td></tr><tr><td>&quot;MAPE-dtsetBirdLife751-X7-RAATD…</td><td>&quot;MAPE&quot;</td><td>&quot;1999-01-01 05:51:00&quot;</td><td>-38.22533</td><td>-53.582872</td><td>0.011035</td><td>0.003845</td></tr><tr><td>&quot;MAPE-dtsetBirdLife751-X7-RAATD…</td><td>&quot;MAPE&quot;</td><td>&quot;1999-01-01 07:51:00&quot;</td><td>-38.308925</td><td>-53.535976</td><td>0.011319</td><td>0.005596</td></tr><tr><td>&quot;MAPE-dtsetBirdLife751-X7-RAATD…</td><td>&quot;MAPE&quot;</td><td>&quot;1999-01-01 09:51:00&quot;</td><td>-38.375685</td><td>-53.487934</td><td>0.01935</td><td>0.010726</td></tr><tr><td>&quot;MAPE-dtsetBirdLife751-X7-RAATD…</td><td>&quot;MAPE&quot;</td><td>&quot;1999-01-01 11:51:00&quot;</td><td>-38.416101</td><td>-53.438611</td><td>0.039817</td><td>0.024897</td></tr><tr><td>&hellip;</td><td>&hellip;</td><td>&hellip;</td><td>&hellip;</td><td>&hellip;</td><td>&hellip;</td><td>&hellip;</td></tr><tr><td>&quot;CR2F_7_107_A09606_2013-14&quot;</td><td>&quot;MAPE&quot;</td><td>&quot;2013-12-24 01:31:17&quot;</td><td>38.036611</td><td>-47.138902</td><td>0.00011</td><td>0.000084</td></tr><tr><td>&quot;CR2F_7_107_A09606_2013-14&quot;</td><td>&quot;MAPE&quot;</td><td>&quot;2013-12-24 02:31:17&quot;</td><td>38.058544</td><td>-47.159127</td><td>0.000144</td><td>0.000106</td></tr><tr><td>&quot;CR2F_7_107_A09606_2013-14&quot;</td><td>&quot;MAPE&quot;</td><td>&quot;2013-12-24 03:31:17&quot;</td><td>38.085655</td><td>-47.17709</td><td>0.000207</td><td>0.00043</td></tr><tr><td>&quot;CR2F_7_107_A09606_2013-14&quot;</td><td>&quot;MAPE&quot;</td><td>&quot;2013-12-24 04:31:17&quot;</td><td>38.115626</td><td>-47.22731</td><td>0.000391</td><td>0.000426</td></tr><tr><td>&quot;CR2F_7_107_A09606_2013-14&quot;</td><td>&quot;MAPE&quot;</td><td>&quot;2013-12-24 05:31:17&quot;</td><td>38.126045</td><td>-47.223057</td><td>0.00676</td><td>0.005825</td></tr></tbody></table></div>"
      ],
      "text/plain": [
       "shape: (39_090, 7)\n",
       "┌──────────────┬─────────────┬─────────────┬─────────────┬─────────────┬─────────────┬─────────────┐\n",
       "│ individual_i ┆ abbreviated ┆ date        ┆ decimal_lon ┆ decimal_lat ┆ longitude_s ┆ latitude_se │\n",
       "│ d            ┆ _name       ┆ ---         ┆ gitude      ┆ itude       ┆ e           ┆ ---         │\n",
       "│ ---          ┆ ---         ┆ str         ┆ ---         ┆ ---         ┆ ---         ┆ f64         │\n",
       "│ str          ┆ str         ┆             ┆ f64         ┆ f64         ┆ f64         ┆             │\n",
       "╞══════════════╪═════════════╪═════════════╪═════════════╪═════════════╪═════════════╪═════════════╡\n",
       "│ MAPE-dtsetBi ┆ MAPE        ┆ 1999-01-01  ┆ -38.171266  ┆ -53.620754  ┆ 0.009801    ┆ 0.00322     │\n",
       "│ rdLife751-X7 ┆             ┆ 03:51:00    ┆             ┆             ┆             ┆             │\n",
       "│ -RAATD…      ┆             ┆             ┆             ┆             ┆             ┆             │\n",
       "│ MAPE-dtsetBi ┆ MAPE        ┆ 1999-01-01  ┆ -38.22533   ┆ -53.582872  ┆ 0.011035    ┆ 0.003845    │\n",
       "│ rdLife751-X7 ┆             ┆ 05:51:00    ┆             ┆             ┆             ┆             │\n",
       "│ -RAATD…      ┆             ┆             ┆             ┆             ┆             ┆             │\n",
       "│ MAPE-dtsetBi ┆ MAPE        ┆ 1999-01-01  ┆ -38.308925  ┆ -53.535976  ┆ 0.011319    ┆ 0.005596    │\n",
       "│ rdLife751-X7 ┆             ┆ 07:51:00    ┆             ┆             ┆             ┆             │\n",
       "│ -RAATD…      ┆             ┆             ┆             ┆             ┆             ┆             │\n",
       "│ MAPE-dtsetBi ┆ MAPE        ┆ 1999-01-01  ┆ -38.375685  ┆ -53.487934  ┆ 0.01935     ┆ 0.010726    │\n",
       "│ rdLife751-X7 ┆             ┆ 09:51:00    ┆             ┆             ┆             ┆             │\n",
       "│ -RAATD…      ┆             ┆             ┆             ┆             ┆             ┆             │\n",
       "│ MAPE-dtsetBi ┆ MAPE        ┆ 1999-01-01  ┆ -38.416101  ┆ -53.438611  ┆ 0.039817    ┆ 0.024897    │\n",
       "│ rdLife751-X7 ┆             ┆ 11:51:00    ┆             ┆             ┆             ┆             │\n",
       "│ -RAATD…      ┆             ┆             ┆             ┆             ┆             ┆             │\n",
       "│ …            ┆ …           ┆ …           ┆ …           ┆ …           ┆ …           ┆ …           │\n",
       "│ CR2F_7_107_A ┆ MAPE        ┆ 2013-12-24  ┆ 38.036611   ┆ -47.138902  ┆ 0.00011     ┆ 0.000084    │\n",
       "│ 09606_2013-1 ┆             ┆ 01:31:17    ┆             ┆             ┆             ┆             │\n",
       "│ 4            ┆             ┆             ┆             ┆             ┆             ┆             │\n",
       "│ CR2F_7_107_A ┆ MAPE        ┆ 2013-12-24  ┆ 38.058544   ┆ -47.159127  ┆ 0.000144    ┆ 0.000106    │\n",
       "│ 09606_2013-1 ┆             ┆ 02:31:17    ┆             ┆             ┆             ┆             │\n",
       "│ 4            ┆             ┆             ┆             ┆             ┆             ┆             │\n",
       "│ CR2F_7_107_A ┆ MAPE        ┆ 2013-12-24  ┆ 38.085655   ┆ -47.17709   ┆ 0.000207    ┆ 0.00043     │\n",
       "│ 09606_2013-1 ┆             ┆ 03:31:17    ┆             ┆             ┆             ┆             │\n",
       "│ 4            ┆             ┆             ┆             ┆             ┆             ┆             │\n",
       "│ CR2F_7_107_A ┆ MAPE        ┆ 2013-12-24  ┆ 38.115626   ┆ -47.22731   ┆ 0.000391    ┆ 0.000426    │\n",
       "│ 09606_2013-1 ┆             ┆ 04:31:17    ┆             ┆             ┆             ┆             │\n",
       "│ 4            ┆             ┆             ┆             ┆             ┆             ┆             │\n",
       "│ CR2F_7_107_A ┆ MAPE        ┆ 2013-12-24  ┆ 38.126045   ┆ -47.223057  ┆ 0.00676     ┆ 0.005825    │\n",
       "│ 09606_2013-1 ┆             ┆ 05:31:17    ┆             ┆             ┆             ┆             │\n",
       "│ 4            ┆             ┆             ┆             ┆             ┆             ┆             │\n",
       "└──────────────┴─────────────┴─────────────┴─────────────┴─────────────┴─────────────┴─────────────┘"
      ]
     },
     "execution_count": 16,
     "metadata": {},
     "output_type": "execute_result"
    }
   ],
   "source": [
    "tracking = tracking.sort(by = \"date\")\n",
    "tracking"
   ]
  },
  {
   "cell_type": "code",
   "execution_count": 17,
   "metadata": {},
   "outputs": [],
   "source": [
    "max_latitude = tracking[\"decimal_latitude\"].max()\n",
    "max_longitude = tracking[\"decimal_longitude\"].max()\n",
    "min_latitude = tracking[\"decimal_latitude\"].min()\n",
    "min_longitude = tracking[\"decimal_longitude\"].min()"
   ]
  },
  {
   "cell_type": "code",
   "execution_count": 18,
   "metadata": {},
   "outputs": [],
   "source": [
    "box = pl.DataFrame({\"max_latitude\": max_latitude, \"min_latitude\": min_latitude, \"max_longitude\": max_longitude, \"min_longitude\": min_longitude})\n",
    "box.write_csv(\"../../data/world_box.csv\")"
   ]
  },
  {
   "cell_type": "code",
   "execution_count": 19,
   "metadata": {},
   "outputs": [],
   "source": [
    "from datetime import datetime\n",
    "\n",
    "temp = pl.DataFrame({\"first\": [1, 0], \"day\": [datetime.strptime(tracking.head(1)[\"date\"].to_list()[0], \"%Y-%m-%d %H:%M:%S\").day, datetime.strptime(tracking.tail(1)[\"date\"].to_list()[0], \"%Y-%m-%d %H:%M:%S\").day], \n",
    "                                              \"month\": [datetime.strptime(tracking.head(1)[\"date\"].to_list()[0], \"%Y-%m-%d %H:%M:%S\").month, datetime.strptime(tracking.tail(1)[\"date\"].to_list()[0], \"%Y-%m-%d %H:%M:%S\").month], \n",
    "                                                        \"year\": [datetime.strptime(tracking.head(1)[\"date\"].to_list()[0], \"%Y-%m-%d %H:%M:%S\").year, datetime.strptime(tracking.tail(1)[\"date\"].to_list()[0], \"%Y-%m-%d %H:%M:%S\").year]})\n",
    "temp.write_csv(\"../../data/temporal_subset.csv\")"
   ]
  }
 ],
 "metadata": {
  "kernelspec": {
   "display_name": "proy3",
   "language": "python",
   "name": "python3"
  },
  "language_info": {
   "codemirror_mode": {
    "name": "ipython",
    "version": 3
   },
   "file_extension": ".py",
   "mimetype": "text/x-python",
   "name": "python",
   "nbconvert_exporter": "python",
   "pygments_lexer": "ipython3",
   "version": "3.12.9"
  }
 },
 "nbformat": 4,
 "nbformat_minor": 2
}
