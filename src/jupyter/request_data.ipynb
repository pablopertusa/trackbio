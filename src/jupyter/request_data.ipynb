{
 "cells": [
  {
   "cell_type": "code",
   "execution_count": 3,
   "metadata": {},
   "outputs": [],
   "source": [
    "import copernicusmarine as cm\n",
    "import xarray as xr\n",
    "import polars as pl\n",
    "import numpy as np\n",
    "from datetime import datetime"
   ]
  },
  {
   "cell_type": "code",
   "execution_count": 4,
   "metadata": {},
   "outputs": [],
   "source": [
    "temp = pl.read_csv(\"../../data/temporal_subset.csv\")\n",
    "box = pl.read_csv(\"../../data/world_box.csv\")"
   ]
  },
  {
   "cell_type": "code",
   "execution_count": 5,
   "metadata": {},
   "outputs": [
    {
     "name": "stdout",
     "output_type": "stream",
     "text": [
      "min 1999-06-15T00:00:00\n",
      "max 2015-10-07T00:00:00\n"
     ]
    }
   ],
   "source": [
    "day = temp.filter(pl.col(\"mas_actual\") == 0)[\"day\"].to_list()[0]\n",
    "month = temp.filter(pl.col(\"mas_actual\") == 0)[\"month\"].to_list()[0]\n",
    "year = temp.filter(pl.col(\"mas_actual\") == 0)[\"year\"].to_list()[0]\n",
    "min_time = f\"{day}-{month}-{year}\"\n",
    "day = temp.filter(pl.col(\"mas_actual\") == 1)[\"day\"].to_list()[0]\n",
    "month = temp.filter(pl.col(\"mas_actual\") == 1)[\"month\"].to_list()[0]\n",
    "year = temp.filter(pl.col(\"mas_actual\") == 1)[\"year\"].to_list()[0]\n",
    "max_time = f\"{day}-{month}-{year}\"\n",
    "fecha_min = datetime.strptime(min_time, \"%d-%m-%Y\")\n",
    "fecha_min_format = fecha_min.strftime(\"%Y-%m-%dT%H:%M:%S\")\n",
    "fecha_max = datetime.strptime(max_time, \"%d-%m-%Y\")\n",
    "fecha_max_format = fecha_max.strftime(\"%Y-%m-%dT%H:%M:%S\")\n",
    "print(\"min\", fecha_min_format)\n",
    "print(\"max\", fecha_max_format)"
   ]
  },
  {
   "cell_type": "code",
   "execution_count": 6,
   "metadata": {},
   "outputs": [
    {
     "name": "stdout",
     "output_type": "stream",
     "text": [
      "max -61.767468 179.988159\n",
      "min -78.173 -179.998241\n"
     ]
    }
   ],
   "source": [
    "max_latitude = box[\"max_latitude\"].to_list()[0]\n",
    "min_latitude = box[\"min_latitude\"].to_list()[0]\n",
    "max_longitude = box[\"max_longitude\"].to_list()[0]\n",
    "min_longitude = box[\"min_longitude\"].to_list()[0]\n",
    "print(\"max\", max_latitude, max_longitude)\n",
    "print(\"min\", min_latitude, min_longitude)"
   ]
  },
  {
   "cell_type": "markdown",
   "metadata": {},
   "source": [
    "## Request"
   ]
  },
  {
   "cell_type": "code",
   "execution_count": null,
   "metadata": {},
   "outputs": [
    {
     "ename": "",
     "evalue": "",
     "output_type": "error",
     "traceback": [
      "\u001b[1;31mThe Kernel crashed while executing code in the current cell or a previous cell. \n",
      "\u001b[1;31mPlease review the code in the cell(s) to identify a possible cause of the failure. \n",
      "\u001b[1;31mClick <a href='https://aka.ms/vscodeJupyterKernelCrash'>here</a> for more info. \n",
      "\u001b[1;31mView Jupyter <a href='command:jupyter.viewOutput'>log</a> for further details."
     ]
    }
   ],
   "source": [
    "def make_request_and_open_copernicus(dataset, output_name, start_time, end_time, max_latitude, min_latitude, max_longitude, min_longitude):\n",
    "    cm.subset( \n",
    "        dataset_id = dataset,\n",
    "        minimum_longitude = min_longitude,\n",
    "        maximum_longitude = max_longitude,\n",
    "        minimum_latitude = min_latitude,\n",
    "        maximum_latitude = max_latitude,\n",
    "        start_datetime = start_time,\n",
    "        end_datetime = end_time,\n",
    "        minimum_depth = 0,\n",
    "        maximum_depth = 1,\n",
    "        output_filename = output_name,\n",
    "        output_directory = \"copernicus-data\"\n",
    "    )\n",
    "    nc_file = xr.open_dataset(f'data/copernicus-data/{output_name}')\n",
    "    return nc_file"
   ]
  },
  {
   "cell_type": "code",
   "execution_count": null,
   "metadata": {},
   "outputs": [
    {
     "name": "stderr",
     "output_type": "stream",
     "text": [
      "INFO - 2025-03-10T09:22:05Z - Downloading Copernicus Marine data requires a Copernicus Marine username and password, sign up for free at: https://data.marine.copernicus.eu/register\n"
     ]
    },
    {
     "name": "stdout",
     "output_type": "stream",
     "text": [
      "Copernicus Marine username:Copernicus Marine password:"
     ]
    },
    {
     "name": "stderr",
     "output_type": "stream",
     "text": [
      "INFO - 2025-03-10T09:22:16Z - Selected dataset version: \"202311\"\n",
      "INFO - 2025-03-10T09:22:16Z - Selected dataset part: \"default\"\n",
      "/home/pablo/miniconda3/envs/proy/lib/python3.9/site-packages/xarray/backends/plugins.py:80: RuntimeWarning: Engine 'earthkit' loading failed:\n",
      "\n",
      "  warnings.warn(f\"Engine {name!r} loading failed:\\n{ex}\", RuntimeWarning)\n"
     ]
    }
   ],
   "source": [
    "data = make_request_and_open_copernicus(\"cmems_mod_glo_phy_my_0.083deg_P1M-m\", \"Global_Ocean_Physics_Reanalysis.nc\",\n",
    "                                        fecha_min_format, fecha_max_format, max_latitude, min_latitude, max_longitude, min_longitude)\n",
    "data"
   ]
  },
  {
   "cell_type": "code",
   "execution_count": null,
   "metadata": {},
   "outputs": [],
   "source": []
  }
 ],
 "metadata": {
  "kernelspec": {
   "display_name": "proy",
   "language": "python",
   "name": "python3"
  },
  "language_info": {
   "codemirror_mode": {
    "name": "ipython",
    "version": 3
   },
   "file_extension": ".py",
   "mimetype": "text/x-python",
   "name": "python",
   "nbconvert_exporter": "python",
   "pygments_lexer": "ipython3",
   "version": "3.9.21"
  }
 },
 "nbformat": 4,
 "nbformat_minor": 2
}
