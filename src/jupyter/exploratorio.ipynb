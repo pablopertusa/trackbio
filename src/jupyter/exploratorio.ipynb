{
 "cells": [
  {
   "cell_type": "markdown",
   "metadata": {},
   "source": [
    "# Exploratorio datos"
   ]
  },
  {
   "cell_type": "code",
   "execution_count": 1,
   "metadata": {},
   "outputs": [],
   "source": [
    "import polars as pl"
   ]
  },
  {
   "cell_type": "code",
   "execution_count": 4,
   "metadata": {},
   "outputs": [
    {
     "data": {
      "text/html": [
       "<div><style>\n",
       ".dataframe > thead > tr,\n",
       ".dataframe > tbody > tr {\n",
       "  text-align: right;\n",
       "  white-space: pre-wrap;\n",
       "}\n",
       "</style>\n",
       "<small>shape: (5, 50)</small><table border=\"1\" class=\"dataframe\"><thead><tr><th>gbifID</th><th>datasetKey</th><th>occurrenceID</th><th>kingdom</th><th>phylum</th><th>class</th><th>order</th><th>family</th><th>genus</th><th>species</th><th>infraspecificEpithet</th><th>taxonRank</th><th>scientificName</th><th>verbatimScientificName</th><th>verbatimScientificNameAuthorship</th><th>countryCode</th><th>locality</th><th>stateProvince</th><th>occurrenceStatus</th><th>individualCount</th><th>publishingOrgKey</th><th>decimalLatitude</th><th>decimalLongitude</th><th>coordinateUncertaintyInMeters</th><th>coordinatePrecision</th><th>elevation</th><th>elevationAccuracy</th><th>depth</th><th>depthAccuracy</th><th>eventDate</th><th>day</th><th>month</th><th>year</th><th>taxonKey</th><th>speciesKey</th><th>basisOfRecord</th><th>institutionCode</th><th>collectionCode</th><th>catalogNumber</th><th>recordNumber</th><th>identifiedBy</th><th>dateIdentified</th><th>license</th><th>rightsHolder</th><th>recordedBy</th><th>typeStatus</th><th>establishmentMeans</th><th>lastInterpreted</th><th>mediaType</th><th>issue</th></tr><tr><td>i64</td><td>str</td><td>str</td><td>str</td><td>str</td><td>str</td><td>str</td><td>str</td><td>str</td><td>str</td><td>str</td><td>str</td><td>str</td><td>str</td><td>str</td><td>str</td><td>str</td><td>str</td><td>str</td><td>str</td><td>str</td><td>f64</td><td>f64</td><td>str</td><td>str</td><td>str</td><td>str</td><td>str</td><td>str</td><td>str</td><td>i64</td><td>i64</td><td>i64</td><td>i64</td><td>i64</td><td>str</td><td>str</td><td>str</td><td>str</td><td>str</td><td>str</td><td>str</td><td>str</td><td>str</td><td>str</td><td>str</td><td>str</td><td>str</td><td>str</td><td>str</td></tr></thead><tbody><tr><td>3020227301</td><td>&quot;b86fe411-8e62-4cd0-aab2-914d75…</td><td>&quot;54::capture:0079&quot;</td><td>&quot;Animalia&quot;</td><td>&quot;Chordata&quot;</td><td>&quot;Aves&quot;</td><td>&quot;Sphenisciformes&quot;</td><td>&quot;Spheniscidae&quot;</td><td>&quot;Pygoscelis&quot;</td><td>&quot;Pygoscelis adeliae&quot;</td><td>null</td><td>&quot;SPECIES&quot;</td><td>&quot;Pygoscelis adeliae (Hombron &amp; …</td><td>&quot;Pygoscelis adeliae&quot;</td><td>null</td><td>&quot;AQ&quot;</td><td>&quot;Edmonson Point, Ross Sea&quot;</td><td>null</td><td>&quot;PRESENT&quot;</td><td>null</td><td>&quot;104e9c96-791b-4f14-978c-f581cb…</td><td>-74.333</td><td>165.145</td><td>null</td><td>null</td><td>null</td><td>null</td><td>null</td><td>null</td><td>&quot;1995-01-09&quot;</td><td>9</td><td>1</td><td>1995</td><td>2481663</td><td>2481663</td><td>&quot;HUMAN_OBSERVATION&quot;</td><td>null</td><td>null</td><td>null</td><td>null</td><td>null</td><td>null</td><td>&quot;CC_BY_4_0&quot;</td><td>null</td><td>null</td><td>null</td><td>null</td><td>&quot;2025-02-02T04:59:11.647Z&quot;</td><td>null</td><td>&quot;COUNTRY_DERIVED_FROM_COORDINAT…</td></tr><tr><td>3022165296</td><td>&quot;b86fe411-8e62-4cd0-aab2-914d75…</td><td>&quot;SES_YY264_60042:deployment:182…</td><td>&quot;Animalia&quot;</td><td>&quot;Chordata&quot;</td><td>&quot;Mammalia&quot;</td><td>&quot;Carnivora&quot;</td><td>&quot;Phocidae&quot;</td><td>&quot;Mirounga&quot;</td><td>&quot;Mirounga leonina&quot;</td><td>null</td><td>&quot;SPECIES&quot;</td><td>&quot;Mirounga leonina (Linnaeus, 17…</td><td>&quot;Mirounga leonina&quot;</td><td>null</td><td>null</td><td>&quot;Sealer&#x27;s Cave, Marion Island&quot;</td><td>null</td><td>&quot;PRESENT&quot;</td><td>null</td><td>&quot;104e9c96-791b-4f14-978c-f581cb…</td><td>-47.711196</td><td>10.061849</td><td>null</td><td>null</td><td>null</td><td>null</td><td>null</td><td>null</td><td>&quot;2008-07-12T23:15&quot;</td><td>12</td><td>7</td><td>2008</td><td>2434814</td><td>2434814</td><td>&quot;MACHINE_OBSERVATION&quot;</td><td>null</td><td>null</td><td>null</td><td>null</td><td>null</td><td>null</td><td>&quot;CC_BY_4_0&quot;</td><td>null</td><td>null</td><td>null</td><td>null</td><td>&quot;2025-02-02T05:00:00.560Z&quot;</td><td>null</td><td>&quot;COORDINATE_ROUNDED&quot;</td></tr><tr><td>3020219301</td><td>&quot;b86fe411-8e62-4cd0-aab2-914d75…</td><td>&quot;56::capture:0081&quot;</td><td>&quot;Animalia&quot;</td><td>&quot;Chordata&quot;</td><td>&quot;Aves&quot;</td><td>&quot;Sphenisciformes&quot;</td><td>&quot;Spheniscidae&quot;</td><td>&quot;Pygoscelis&quot;</td><td>&quot;Pygoscelis adeliae&quot;</td><td>null</td><td>&quot;SPECIES&quot;</td><td>&quot;Pygoscelis adeliae (Hombron &amp; …</td><td>&quot;Pygoscelis adeliae&quot;</td><td>null</td><td>&quot;AQ&quot;</td><td>&quot;Edmonson Point, Ross Sea&quot;</td><td>null</td><td>&quot;PRESENT&quot;</td><td>null</td><td>&quot;104e9c96-791b-4f14-978c-f581cb…</td><td>-74.333</td><td>165.145</td><td>null</td><td>null</td><td>null</td><td>null</td><td>null</td><td>null</td><td>&quot;1994-12-02&quot;</td><td>2</td><td>12</td><td>1994</td><td>2481663</td><td>2481663</td><td>&quot;HUMAN_OBSERVATION&quot;</td><td>null</td><td>null</td><td>null</td><td>null</td><td>null</td><td>null</td><td>&quot;CC_BY_4_0&quot;</td><td>null</td><td>null</td><td>null</td><td>null</td><td>&quot;2025-02-02T04:59:12.224Z&quot;</td><td>null</td><td>&quot;COUNTRY_DERIVED_FROM_COORDINAT…</td></tr><tr><td>3020938167</td><td>&quot;b86fe411-8e62-4cd0-aab2-914d75…</td><td>&quot;SES_YY264_60042:deployment:182…</td><td>&quot;Animalia&quot;</td><td>&quot;Chordata&quot;</td><td>&quot;Mammalia&quot;</td><td>&quot;Carnivora&quot;</td><td>&quot;Phocidae&quot;</td><td>&quot;Mirounga&quot;</td><td>&quot;Mirounga leonina&quot;</td><td>null</td><td>&quot;SPECIES&quot;</td><td>&quot;Mirounga leonina (Linnaeus, 17…</td><td>&quot;Mirounga leonina&quot;</td><td>null</td><td>null</td><td>&quot;Sealer&#x27;s Cave, Marion Island&quot;</td><td>null</td><td>&quot;PRESENT&quot;</td><td>null</td><td>&quot;104e9c96-791b-4f14-978c-f581cb…</td><td>-47.599546</td><td>10.084313</td><td>null</td><td>null</td><td>null</td><td>null</td><td>null</td><td>null</td><td>&quot;2008-07-13T07:15&quot;</td><td>13</td><td>7</td><td>2008</td><td>2434814</td><td>2434814</td><td>&quot;MACHINE_OBSERVATION&quot;</td><td>null</td><td>null</td><td>null</td><td>null</td><td>null</td><td>null</td><td>&quot;CC_BY_4_0&quot;</td><td>null</td><td>null</td><td>null</td><td>null</td><td>&quot;2025-02-02T05:00:00.560Z&quot;</td><td>null</td><td>&quot;COORDINATE_ROUNDED&quot;</td></tr><tr><td>3021340301</td><td>&quot;b86fe411-8e62-4cd0-aab2-914d75…</td><td>&quot;58::capture:0084&quot;</td><td>&quot;Animalia&quot;</td><td>&quot;Chordata&quot;</td><td>&quot;Aves&quot;</td><td>&quot;Sphenisciformes&quot;</td><td>&quot;Spheniscidae&quot;</td><td>&quot;Pygoscelis&quot;</td><td>&quot;Pygoscelis adeliae&quot;</td><td>null</td><td>&quot;SPECIES&quot;</td><td>&quot;Pygoscelis adeliae (Hombron &amp; …</td><td>&quot;Pygoscelis adeliae&quot;</td><td>null</td><td>&quot;AQ&quot;</td><td>&quot;Edmonson Point, Ross Sea&quot;</td><td>null</td><td>&quot;PRESENT&quot;</td><td>null</td><td>&quot;104e9c96-791b-4f14-978c-f581cb…</td><td>-74.333</td><td>165.145</td><td>null</td><td>null</td><td>null</td><td>null</td><td>null</td><td>null</td><td>&quot;1994-12-06&quot;</td><td>6</td><td>12</td><td>1994</td><td>2481663</td><td>2481663</td><td>&quot;HUMAN_OBSERVATION&quot;</td><td>null</td><td>null</td><td>null</td><td>null</td><td>null</td><td>null</td><td>&quot;CC_BY_4_0&quot;</td><td>null</td><td>null</td><td>null</td><td>null</td><td>&quot;2025-02-02T04:59:12.225Z&quot;</td><td>null</td><td>&quot;COUNTRY_DERIVED_FROM_COORDINAT…</td></tr></tbody></table></div>"
      ],
      "text/plain": [
       "shape: (5, 50)\n",
       "┌───────────┬───────────┬───────────┬──────────┬───┬───────────┬───────────┬───────────┬───────────┐\n",
       "│ gbifID    ┆ datasetKe ┆ occurrenc ┆ kingdom  ┆ … ┆ establish ┆ lastInter ┆ mediaType ┆ issue     │\n",
       "│ ---       ┆ y         ┆ eID       ┆ ---      ┆   ┆ mentMeans ┆ preted    ┆ ---       ┆ ---       │\n",
       "│ i64       ┆ ---       ┆ ---       ┆ str      ┆   ┆ ---       ┆ ---       ┆ str       ┆ str       │\n",
       "│           ┆ str       ┆ str       ┆          ┆   ┆ str       ┆ str       ┆           ┆           │\n",
       "╞═══════════╪═══════════╪═══════════╪══════════╪═══╪═══════════╪═══════════╪═══════════╪═══════════╡\n",
       "│ 302022730 ┆ b86fe411- ┆ 54::captu ┆ Animalia ┆ … ┆ null      ┆ 2025-02-0 ┆ null      ┆ COUNTRY_D │\n",
       "│ 1         ┆ 8e62-4cd0 ┆ re:0079   ┆          ┆   ┆           ┆ 2T04:59:1 ┆           ┆ ERIVED_FR │\n",
       "│           ┆ -aab2-914 ┆           ┆          ┆   ┆           ┆ 1.647Z    ┆           ┆ OM_COORDI │\n",
       "│           ┆ d75…      ┆           ┆          ┆   ┆           ┆           ┆           ┆ NAT…      │\n",
       "│ 302216529 ┆ b86fe411- ┆ SES_YY264 ┆ Animalia ┆ … ┆ null      ┆ 2025-02-0 ┆ null      ┆ COORDINAT │\n",
       "│ 6         ┆ 8e62-4cd0 ┆ _60042:de ┆          ┆   ┆           ┆ 2T05:00:0 ┆           ┆ E_ROUNDED │\n",
       "│           ┆ -aab2-914 ┆ ployment: ┆          ┆   ┆           ┆ 0.560Z    ┆           ┆           │\n",
       "│           ┆ d75…      ┆ 182…      ┆          ┆   ┆           ┆           ┆           ┆           │\n",
       "│ 302021930 ┆ b86fe411- ┆ 56::captu ┆ Animalia ┆ … ┆ null      ┆ 2025-02-0 ┆ null      ┆ COUNTRY_D │\n",
       "│ 1         ┆ 8e62-4cd0 ┆ re:0081   ┆          ┆   ┆           ┆ 2T04:59:1 ┆           ┆ ERIVED_FR │\n",
       "│           ┆ -aab2-914 ┆           ┆          ┆   ┆           ┆ 2.224Z    ┆           ┆ OM_COORDI │\n",
       "│           ┆ d75…      ┆           ┆          ┆   ┆           ┆           ┆           ┆ NAT…      │\n",
       "│ 302093816 ┆ b86fe411- ┆ SES_YY264 ┆ Animalia ┆ … ┆ null      ┆ 2025-02-0 ┆ null      ┆ COORDINAT │\n",
       "│ 7         ┆ 8e62-4cd0 ┆ _60042:de ┆          ┆   ┆           ┆ 2T05:00:0 ┆           ┆ E_ROUNDED │\n",
       "│           ┆ -aab2-914 ┆ ployment: ┆          ┆   ┆           ┆ 0.560Z    ┆           ┆           │\n",
       "│           ┆ d75…      ┆ 182…      ┆          ┆   ┆           ┆           ┆           ┆           │\n",
       "│ 302134030 ┆ b86fe411- ┆ 58::captu ┆ Animalia ┆ … ┆ null      ┆ 2025-02-0 ┆ null      ┆ COUNTRY_D │\n",
       "│ 1         ┆ 8e62-4cd0 ┆ re:0084   ┆          ┆   ┆           ┆ 2T04:59:1 ┆           ┆ ERIVED_FR │\n",
       "│           ┆ -aab2-914 ┆           ┆          ┆   ┆           ┆ 2.225Z    ┆           ┆ OM_COORDI │\n",
       "│           ┆ d75…      ┆           ┆          ┆   ┆           ┆           ┆           ┆ NAT…      │\n",
       "└───────────┴───────────┴───────────┴──────────┴───┴───────────┴───────────┴───────────┴───────────┘"
      ]
     },
     "execution_count": 4,
     "metadata": {},
     "output_type": "execute_result"
    }
   ],
   "source": [
    "df = pl.read_csv(\"../../data/dataset_proy.csv\" , separator=\"\\t\")\n",
    "df.head()"
   ]
  },
  {
   "cell_type": "code",
   "execution_count": null,
   "metadata": {},
   "outputs": [],
   "source": []
  }
 ],
 "metadata": {
  "kernelspec": {
   "display_name": "ds",
   "language": "python",
   "name": "python3"
  },
  "language_info": {
   "codemirror_mode": {
    "name": "ipython",
    "version": 3
   },
   "file_extension": ".py",
   "mimetype": "text/x-python",
   "name": "python",
   "nbconvert_exporter": "python",
   "pygments_lexer": "ipython3",
   "version": "3.9.21"
  }
 },
 "nbformat": 4,
 "nbformat_minor": 2
}
