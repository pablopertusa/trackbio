{
 "cells": [
  {
   "cell_type": "markdown",
   "metadata": {},
   "source": [
    "# Extracción datos copernicus"
   ]
  },
  {
   "cell_type": "code",
   "execution_count": 6,
   "metadata": {},
   "outputs": [],
   "source": [
    "import copernicusmarine as cm\n",
    "import xarray as xr\n",
    "import polars as pl\n",
    "import numpy as np\n",
    "import json"
   ]
  },
  {
   "cell_type": "code",
   "execution_count": null,
   "metadata": {},
   "outputs": [],
   "source": [
    "# El dataset original está eliminado localmente, ahora no funcionará\n",
    "tracking = pl.scan_csv(\"../../data/dataset_proy.csv\", separator=\"\\t\")\n",
    "tracking = tracking.filter(pl.col(\"species\") == \"Leptonychotes weddellii\")\n",
    "foca = tracking.collect()"
   ]
  },
  {
   "cell_type": "code",
   "execution_count": 3,
   "metadata": {},
   "outputs": [
    {
     "data": {
      "text/html": [
       "<div><style>\n",
       ".dataframe > thead > tr,\n",
       ".dataframe > tbody > tr {\n",
       "  text-align: right;\n",
       "  white-space: pre-wrap;\n",
       "}\n",
       "</style>\n",
       "<small>shape: (342_720, 6)</small><table border=\"1\" class=\"dataframe\"><thead><tr><th>species</th><th>decimalLongitude</th><th>decimalLatitude</th><th>day</th><th>month</th><th>year</th></tr><tr><td>str</td><td>f64</td><td>f64</td><td>i64</td><td>i64</td><td>i64</td></tr></thead><tbody><tr><td>&quot;Leptonychotes weddellii&quot;</td><td>77.961656</td><td>-68.580513</td><td>15</td><td>6</td><td>1999</td></tr><tr><td>&quot;Leptonychotes weddellii&quot;</td><td>77.961303</td><td>-68.582151</td><td>15</td><td>6</td><td>1999</td></tr><tr><td>&quot;Leptonychotes weddellii&quot;</td><td>78.25</td><td>-68.55</td><td>15</td><td>6</td><td>1999</td></tr><tr><td>&quot;Leptonychotes weddellii&quot;</td><td>77.963241</td><td>-68.576349</td><td>15</td><td>6</td><td>1999</td></tr><tr><td>&quot;Leptonychotes weddellii&quot;</td><td>77.961189</td><td>-68.583751</td><td>15</td><td>6</td><td>1999</td></tr><tr><td>&hellip;</td><td>&hellip;</td><td>&hellip;</td><td>&hellip;</td><td>&hellip;</td><td>&hellip;</td></tr><tr><td>&quot;Leptonychotes weddellii&quot;</td><td>-59.181881</td><td>-61.929668</td><td>7</td><td>10</td><td>2015</td></tr><tr><td>&quot;Leptonychotes weddellii&quot;</td><td>-59.204922</td><td>-61.950805</td><td>7</td><td>10</td><td>2015</td></tr><tr><td>&quot;Leptonychotes weddellii&quot;</td><td>-59.220741</td><td>-61.951429</td><td>7</td><td>10</td><td>2015</td></tr><tr><td>&quot;Leptonychotes weddellii&quot;</td><td>-59.17285</td><td>-61.906429</td><td>7</td><td>10</td><td>2015</td></tr><tr><td>&quot;Leptonychotes weddellii&quot;</td><td>-59.165851</td><td>-61.911361</td><td>7</td><td>10</td><td>2015</td></tr></tbody></table></div>"
      ],
      "text/plain": [
       "shape: (342_720, 6)\n",
       "┌─────────────────────────┬──────────────────┬─────────────────┬─────┬───────┬──────┐\n",
       "│ species                 ┆ decimalLongitude ┆ decimalLatitude ┆ day ┆ month ┆ year │\n",
       "│ ---                     ┆ ---              ┆ ---             ┆ --- ┆ ---   ┆ ---  │\n",
       "│ str                     ┆ f64              ┆ f64             ┆ i64 ┆ i64   ┆ i64  │\n",
       "╞═════════════════════════╪══════════════════╪═════════════════╪═════╪═══════╪══════╡\n",
       "│ Leptonychotes weddellii ┆ 77.961656        ┆ -68.580513      ┆ 15  ┆ 6     ┆ 1999 │\n",
       "│ Leptonychotes weddellii ┆ 77.961303        ┆ -68.582151      ┆ 15  ┆ 6     ┆ 1999 │\n",
       "│ Leptonychotes weddellii ┆ 78.25            ┆ -68.55          ┆ 15  ┆ 6     ┆ 1999 │\n",
       "│ Leptonychotes weddellii ┆ 77.963241        ┆ -68.576349      ┆ 15  ┆ 6     ┆ 1999 │\n",
       "│ Leptonychotes weddellii ┆ 77.961189        ┆ -68.583751      ┆ 15  ┆ 6     ┆ 1999 │\n",
       "│ …                       ┆ …                ┆ …               ┆ …   ┆ …     ┆ …    │\n",
       "│ Leptonychotes weddellii ┆ -59.181881       ┆ -61.929668      ┆ 7   ┆ 10    ┆ 2015 │\n",
       "│ Leptonychotes weddellii ┆ -59.204922       ┆ -61.950805      ┆ 7   ┆ 10    ┆ 2015 │\n",
       "│ Leptonychotes weddellii ┆ -59.220741       ┆ -61.951429      ┆ 7   ┆ 10    ┆ 2015 │\n",
       "│ Leptonychotes weddellii ┆ -59.17285        ┆ -61.906429      ┆ 7   ┆ 10    ┆ 2015 │\n",
       "│ Leptonychotes weddellii ┆ -59.165851       ┆ -61.911361      ┆ 7   ┆ 10    ┆ 2015 │\n",
       "└─────────────────────────┴──────────────────┴─────────────────┴─────┴───────┴──────┘"
      ]
     },
     "execution_count": 3,
     "metadata": {},
     "output_type": "execute_result"
    }
   ],
   "source": [
    "foca = foca.select([\"species\", \"decimalLongitude\", \"decimalLatitude\", \"day\", \"month\", \"year\", ]).sort(by = [\"year\", \"month\", \"day\"])\n",
    "foca"
   ]
  },
  {
   "cell_type": "code",
   "execution_count": 4,
   "metadata": {},
   "outputs": [
    {
     "name": "stdout",
     "output_type": "stream",
     "text": [
      "-61.767468 -78.173 179.988159 -179.998241\n"
     ]
    }
   ],
   "source": [
    "max_latitude = foca[\"decimalLatitude\"].max()\n",
    "max_longitude = foca[\"decimalLongitude\"].max()\n",
    "min_latitude = foca[\"decimalLatitude\"].min()\n",
    "min_longitude = foca[\"decimalLongitude\"].min()\n",
    "print(max_latitude, min_latitude, max_longitude, min_longitude)"
   ]
  },
  {
   "cell_type": "code",
   "execution_count": 5,
   "metadata": {},
   "outputs": [],
   "source": [
    "foca.write_csv(\"../../data/foca_data.csv\")"
   ]
  },
  {
   "cell_type": "code",
   "execution_count": 10,
   "metadata": {},
   "outputs": [
    {
     "data": {
      "text/html": [
       "<div><style>\n",
       ".dataframe > thead > tr,\n",
       ".dataframe > tbody > tr {\n",
       "  text-align: right;\n",
       "  white-space: pre-wrap;\n",
       "}\n",
       "</style>\n",
       "<small>shape: (342_720, 6)</small><table border=\"1\" class=\"dataframe\"><thead><tr><th>species</th><th>decimalLongitude</th><th>decimalLatitude</th><th>day</th><th>month</th><th>year</th></tr><tr><td>str</td><td>f64</td><td>f64</td><td>i64</td><td>i64</td><td>i64</td></tr></thead><tbody><tr><td>&quot;Leptonychotes weddellii&quot;</td><td>77.961656</td><td>-68.580513</td><td>15</td><td>6</td><td>1999</td></tr><tr><td>&quot;Leptonychotes weddellii&quot;</td><td>77.961303</td><td>-68.582151</td><td>15</td><td>6</td><td>1999</td></tr><tr><td>&quot;Leptonychotes weddellii&quot;</td><td>78.25</td><td>-68.55</td><td>15</td><td>6</td><td>1999</td></tr><tr><td>&quot;Leptonychotes weddellii&quot;</td><td>77.963241</td><td>-68.576349</td><td>15</td><td>6</td><td>1999</td></tr><tr><td>&quot;Leptonychotes weddellii&quot;</td><td>77.961189</td><td>-68.583751</td><td>15</td><td>6</td><td>1999</td></tr><tr><td>&hellip;</td><td>&hellip;</td><td>&hellip;</td><td>&hellip;</td><td>&hellip;</td><td>&hellip;</td></tr><tr><td>&quot;Leptonychotes weddellii&quot;</td><td>-59.181881</td><td>-61.929668</td><td>7</td><td>10</td><td>2015</td></tr><tr><td>&quot;Leptonychotes weddellii&quot;</td><td>-59.204922</td><td>-61.950805</td><td>7</td><td>10</td><td>2015</td></tr><tr><td>&quot;Leptonychotes weddellii&quot;</td><td>-59.220741</td><td>-61.951429</td><td>7</td><td>10</td><td>2015</td></tr><tr><td>&quot;Leptonychotes weddellii&quot;</td><td>-59.17285</td><td>-61.906429</td><td>7</td><td>10</td><td>2015</td></tr><tr><td>&quot;Leptonychotes weddellii&quot;</td><td>-59.165851</td><td>-61.911361</td><td>7</td><td>10</td><td>2015</td></tr></tbody></table></div>"
      ],
      "text/plain": [
       "shape: (342_720, 6)\n",
       "┌─────────────────────────┬──────────────────┬─────────────────┬─────┬───────┬──────┐\n",
       "│ species                 ┆ decimalLongitude ┆ decimalLatitude ┆ day ┆ month ┆ year │\n",
       "│ ---                     ┆ ---              ┆ ---             ┆ --- ┆ ---   ┆ ---  │\n",
       "│ str                     ┆ f64              ┆ f64             ┆ i64 ┆ i64   ┆ i64  │\n",
       "╞═════════════════════════╪══════════════════╪═════════════════╪═════╪═══════╪══════╡\n",
       "│ Leptonychotes weddellii ┆ 77.961656        ┆ -68.580513      ┆ 15  ┆ 6     ┆ 1999 │\n",
       "│ Leptonychotes weddellii ┆ 77.961303        ┆ -68.582151      ┆ 15  ┆ 6     ┆ 1999 │\n",
       "│ Leptonychotes weddellii ┆ 78.25            ┆ -68.55          ┆ 15  ┆ 6     ┆ 1999 │\n",
       "│ Leptonychotes weddellii ┆ 77.963241        ┆ -68.576349      ┆ 15  ┆ 6     ┆ 1999 │\n",
       "│ Leptonychotes weddellii ┆ 77.961189        ┆ -68.583751      ┆ 15  ┆ 6     ┆ 1999 │\n",
       "│ …                       ┆ …                ┆ …               ┆ …   ┆ …     ┆ …    │\n",
       "│ Leptonychotes weddellii ┆ -59.181881       ┆ -61.929668      ┆ 7   ┆ 10    ┆ 2015 │\n",
       "│ Leptonychotes weddellii ┆ -59.204922       ┆ -61.950805      ┆ 7   ┆ 10    ┆ 2015 │\n",
       "│ Leptonychotes weddellii ┆ -59.220741       ┆ -61.951429      ┆ 7   ┆ 10    ┆ 2015 │\n",
       "│ Leptonychotes weddellii ┆ -59.17285        ┆ -61.906429      ┆ 7   ┆ 10    ┆ 2015 │\n",
       "│ Leptonychotes weddellii ┆ -59.165851       ┆ -61.911361      ┆ 7   ┆ 10    ┆ 2015 │\n",
       "└─────────────────────────┴──────────────────┴─────────────────┴─────┴───────┴──────┘"
      ]
     },
     "execution_count": 10,
     "metadata": {},
     "output_type": "execute_result"
    }
   ],
   "source": [
    "foca = pl.read_csv(\"../../data/foca_data.csv\")\n",
    "foca"
   ]
  },
  {
   "cell_type": "code",
   "execution_count": 12,
   "metadata": {},
   "outputs": [
    {
     "name": "stdout",
     "output_type": "stream",
     "text": [
      "el mas viejo\n",
      "day 15\n",
      "month 6\n",
      "year 1999\n",
      "el mas actual\n",
      "day 7\n",
      "month 10\n",
      "year 2015\n"
     ]
    }
   ],
   "source": [
    "print(\"el mas viejo\")\n",
    "print(\"day\", foca.head(1)[\"day\"].to_list()[0])\n",
    "print(\"month\", foca.head(1)[\"month\"].to_list()[0])\n",
    "print(\"year\", foca.head(1)[\"year\"].to_list()[0])\n",
    "print(\"el mas actual\")\n",
    "print(\"day\", foca.tail(1)[\"day\"].to_list()[0])\n",
    "print(\"month\", foca.tail(1)[\"month\"].to_list()[0])\n",
    "print(\"year\", foca.tail(1)[\"year\"].to_list()[0])"
   ]
  }
 ],
 "metadata": {
  "kernelspec": {
   "display_name": "proy",
   "language": "python",
   "name": "python3"
  },
  "language_info": {
   "codemirror_mode": {
    "name": "ipython",
    "version": 3
   },
   "file_extension": ".py",
   "mimetype": "text/x-python",
   "name": "python",
   "nbconvert_exporter": "python",
   "pygments_lexer": "ipython3",
   "version": "3.9.21"
  }
 },
 "nbformat": 4,
 "nbformat_minor": 2
}
