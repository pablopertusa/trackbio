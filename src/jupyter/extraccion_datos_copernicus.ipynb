{
 "cells": [
  {
   "cell_type": "markdown",
   "metadata": {},
   "source": [
    "# Extracción datos copernicus"
   ]
  },
  {
   "cell_type": "code",
   "execution_count": 1,
   "metadata": {},
   "outputs": [
    {
     "name": "stderr",
     "output_type": "stream",
     "text": [
      "/home/pablo/miniconda3/envs/proy3/lib/python3.12/site-packages/tqdm/auto.py:21: TqdmWarning: IProgress not found. Please update jupyter and ipywidgets. See https://ipywidgets.readthedocs.io/en/stable/user_install.html\n",
      "  from .autonotebook import tqdm as notebook_tqdm\n"
     ]
    }
   ],
   "source": [
    "import copernicusmarine as cm\n",
    "import xarray as xr\n",
    "import polars as pl\n",
    "import numpy as np\n",
    "import json"
   ]
  },
  {
   "cell_type": "code",
   "execution_count": 6,
   "metadata": {},
   "outputs": [],
   "source": [
    "# El dataset original está eliminado localmente, ahora no funcionará\n",
    "tracking = pl.scan_csv(\"../../data/dataset_proy.csv\", separator=\"\\t\")\n",
    "tracking = tracking.filter(pl.col(\"species\") == \"Eudyptes chrysolophus\") # Aquí seleccionamos la especie que queremos\n",
    "pingüino = tracking.collect()"
   ]
  },
  {
   "cell_type": "code",
   "execution_count": 7,
   "metadata": {},
   "outputs": [
    {
     "data": {
      "text/html": [
       "<div><style>\n",
       ".dataframe > thead > tr,\n",
       ".dataframe > tbody > tr {\n",
       "  text-align: right;\n",
       "  white-space: pre-wrap;\n",
       "}\n",
       "</style>\n",
       "<small>shape: (39_272, 6)</small><table border=\"1\" class=\"dataframe\"><thead><tr><th>species</th><th>decimalLongitude</th><th>decimalLatitude</th><th>day</th><th>month</th><th>year</th></tr><tr><td>str</td><td>f64</td><td>f64</td><td>i64</td><td>i64</td><td>i64</td></tr></thead><tbody><tr><td>&quot;Eudyptes chrysolophus&quot;</td><td>-38.27327</td><td>-53.415171</td><td>1</td><td>1</td><td>1999</td></tr><tr><td>&quot;Eudyptes chrysolophus&quot;</td><td>-38.375685</td><td>-53.487934</td><td>1</td><td>1</td><td>1999</td></tr><tr><td>&quot;Eudyptes chrysolophus&quot;</td><td>-38.22533</td><td>-53.582872</td><td>1</td><td>1</td><td>1999</td></tr><tr><td>&quot;Eudyptes chrysolophus&quot;</td><td>-38.416233</td><td>-53.3911</td><td>1</td><td>1</td><td>1999</td></tr><tr><td>&quot;Eudyptes chrysolophus&quot;</td><td>-38.318103</td><td>-53.486283</td><td>1</td><td>1</td><td>1999</td></tr><tr><td>&hellip;</td><td>&hellip;</td><td>&hellip;</td><td>&hellip;</td><td>&hellip;</td><td>&hellip;</td></tr><tr><td>&quot;Eudyptes chrysolophus&quot;</td><td>38.036611</td><td>-47.138902</td><td>24</td><td>12</td><td>2013</td></tr><tr><td>&quot;Eudyptes chrysolophus&quot;</td><td>38.126045</td><td>-47.223057</td><td>24</td><td>12</td><td>2013</td></tr><tr><td>&quot;Eudyptes chrysolophus&quot;</td><td>38.058544</td><td>-47.159127</td><td>24</td><td>12</td><td>2013</td></tr><tr><td>&quot;Eudyptes chrysolophus&quot;</td><td>38.025174</td><td>-47.121375</td><td>24</td><td>12</td><td>2013</td></tr><tr><td>&quot;Eudyptes chrysolophus&quot;</td><td>38.085655</td><td>-47.17709</td><td>24</td><td>12</td><td>2013</td></tr></tbody></table></div>"
      ],
      "text/plain": [
       "shape: (39_272, 6)\n",
       "┌───────────────────────┬──────────────────┬─────────────────┬─────┬───────┬──────┐\n",
       "│ species               ┆ decimalLongitude ┆ decimalLatitude ┆ day ┆ month ┆ year │\n",
       "│ ---                   ┆ ---              ┆ ---             ┆ --- ┆ ---   ┆ ---  │\n",
       "│ str                   ┆ f64              ┆ f64             ┆ i64 ┆ i64   ┆ i64  │\n",
       "╞═══════════════════════╪══════════════════╪═════════════════╪═════╪═══════╪══════╡\n",
       "│ Eudyptes chrysolophus ┆ -38.27327        ┆ -53.415171      ┆ 1   ┆ 1     ┆ 1999 │\n",
       "│ Eudyptes chrysolophus ┆ -38.375685       ┆ -53.487934      ┆ 1   ┆ 1     ┆ 1999 │\n",
       "│ Eudyptes chrysolophus ┆ -38.22533        ┆ -53.582872      ┆ 1   ┆ 1     ┆ 1999 │\n",
       "│ Eudyptes chrysolophus ┆ -38.416233       ┆ -53.3911        ┆ 1   ┆ 1     ┆ 1999 │\n",
       "│ Eudyptes chrysolophus ┆ -38.318103       ┆ -53.486283      ┆ 1   ┆ 1     ┆ 1999 │\n",
       "│ …                     ┆ …                ┆ …               ┆ …   ┆ …     ┆ …    │\n",
       "│ Eudyptes chrysolophus ┆ 38.036611        ┆ -47.138902      ┆ 24  ┆ 12    ┆ 2013 │\n",
       "│ Eudyptes chrysolophus ┆ 38.126045        ┆ -47.223057      ┆ 24  ┆ 12    ┆ 2013 │\n",
       "│ Eudyptes chrysolophus ┆ 38.058544        ┆ -47.159127      ┆ 24  ┆ 12    ┆ 2013 │\n",
       "│ Eudyptes chrysolophus ┆ 38.025174        ┆ -47.121375      ┆ 24  ┆ 12    ┆ 2013 │\n",
       "│ Eudyptes chrysolophus ┆ 38.085655        ┆ -47.17709       ┆ 24  ┆ 12    ┆ 2013 │\n",
       "└───────────────────────┴──────────────────┴─────────────────┴─────┴───────┴──────┘"
      ]
     },
     "execution_count": 7,
     "metadata": {},
     "output_type": "execute_result"
    }
   ],
   "source": [
    "pingüino = pingüino.select([\"species\", \"decimalLongitude\", \"decimalLatitude\", \"day\", \"month\", \"year\", ]).sort(by = [\"year\", \"month\", \"day\"])\n",
    "pingüino"
   ]
  },
  {
   "cell_type": "code",
   "execution_count": 8,
   "metadata": {},
   "outputs": [
    {
     "name": "stdout",
     "output_type": "stream",
     "text": [
      "-43.794483 -65.655159 89.186795 -61.236411\n"
     ]
    }
   ],
   "source": [
    "max_latitude = pingüino[\"decimalLatitude\"].max()\n",
    "max_longitude = pingüino[\"decimalLongitude\"].max()\n",
    "min_latitude = pingüino[\"decimalLatitude\"].min()\n",
    "min_longitude = pingüino[\"decimalLongitude\"].min()\n",
    "print(max_latitude, min_latitude, max_longitude, min_longitude)"
   ]
  },
  {
   "cell_type": "code",
   "execution_count": 10,
   "metadata": {},
   "outputs": [],
   "source": [
    "pingüino.write_csv(\"../../data/penguin_data.csv\")"
   ]
  },
  {
   "cell_type": "code",
   "execution_count": 11,
   "metadata": {},
   "outputs": [
    {
     "data": {
      "text/html": [
       "<div><style>\n",
       ".dataframe > thead > tr,\n",
       ".dataframe > tbody > tr {\n",
       "  text-align: right;\n",
       "  white-space: pre-wrap;\n",
       "}\n",
       "</style>\n",
       "<small>shape: (39_272, 6)</small><table border=\"1\" class=\"dataframe\"><thead><tr><th>species</th><th>decimalLongitude</th><th>decimalLatitude</th><th>day</th><th>month</th><th>year</th></tr><tr><td>str</td><td>f64</td><td>f64</td><td>i64</td><td>i64</td><td>i64</td></tr></thead><tbody><tr><td>&quot;Eudyptes chrysolophus&quot;</td><td>-38.27327</td><td>-53.415171</td><td>1</td><td>1</td><td>1999</td></tr><tr><td>&quot;Eudyptes chrysolophus&quot;</td><td>-38.375685</td><td>-53.487934</td><td>1</td><td>1</td><td>1999</td></tr><tr><td>&quot;Eudyptes chrysolophus&quot;</td><td>-38.22533</td><td>-53.582872</td><td>1</td><td>1</td><td>1999</td></tr><tr><td>&quot;Eudyptes chrysolophus&quot;</td><td>-38.416233</td><td>-53.3911</td><td>1</td><td>1</td><td>1999</td></tr><tr><td>&quot;Eudyptes chrysolophus&quot;</td><td>-38.318103</td><td>-53.486283</td><td>1</td><td>1</td><td>1999</td></tr><tr><td>&hellip;</td><td>&hellip;</td><td>&hellip;</td><td>&hellip;</td><td>&hellip;</td><td>&hellip;</td></tr><tr><td>&quot;Eudyptes chrysolophus&quot;</td><td>38.036611</td><td>-47.138902</td><td>24</td><td>12</td><td>2013</td></tr><tr><td>&quot;Eudyptes chrysolophus&quot;</td><td>38.126045</td><td>-47.223057</td><td>24</td><td>12</td><td>2013</td></tr><tr><td>&quot;Eudyptes chrysolophus&quot;</td><td>38.058544</td><td>-47.159127</td><td>24</td><td>12</td><td>2013</td></tr><tr><td>&quot;Eudyptes chrysolophus&quot;</td><td>38.025174</td><td>-47.121375</td><td>24</td><td>12</td><td>2013</td></tr><tr><td>&quot;Eudyptes chrysolophus&quot;</td><td>38.085655</td><td>-47.17709</td><td>24</td><td>12</td><td>2013</td></tr></tbody></table></div>"
      ],
      "text/plain": [
       "shape: (39_272, 6)\n",
       "┌───────────────────────┬──────────────────┬─────────────────┬─────┬───────┬──────┐\n",
       "│ species               ┆ decimalLongitude ┆ decimalLatitude ┆ day ┆ month ┆ year │\n",
       "│ ---                   ┆ ---              ┆ ---             ┆ --- ┆ ---   ┆ ---  │\n",
       "│ str                   ┆ f64              ┆ f64             ┆ i64 ┆ i64   ┆ i64  │\n",
       "╞═══════════════════════╪══════════════════╪═════════════════╪═════╪═══════╪══════╡\n",
       "│ Eudyptes chrysolophus ┆ -38.27327        ┆ -53.415171      ┆ 1   ┆ 1     ┆ 1999 │\n",
       "│ Eudyptes chrysolophus ┆ -38.375685       ┆ -53.487934      ┆ 1   ┆ 1     ┆ 1999 │\n",
       "│ Eudyptes chrysolophus ┆ -38.22533        ┆ -53.582872      ┆ 1   ┆ 1     ┆ 1999 │\n",
       "│ Eudyptes chrysolophus ┆ -38.416233       ┆ -53.3911        ┆ 1   ┆ 1     ┆ 1999 │\n",
       "│ Eudyptes chrysolophus ┆ -38.318103       ┆ -53.486283      ┆ 1   ┆ 1     ┆ 1999 │\n",
       "│ …                     ┆ …                ┆ …               ┆ …   ┆ …     ┆ …    │\n",
       "│ Eudyptes chrysolophus ┆ 38.036611        ┆ -47.138902      ┆ 24  ┆ 12    ┆ 2013 │\n",
       "│ Eudyptes chrysolophus ┆ 38.126045        ┆ -47.223057      ┆ 24  ┆ 12    ┆ 2013 │\n",
       "│ Eudyptes chrysolophus ┆ 38.058544        ┆ -47.159127      ┆ 24  ┆ 12    ┆ 2013 │\n",
       "│ Eudyptes chrysolophus ┆ 38.025174        ┆ -47.121375      ┆ 24  ┆ 12    ┆ 2013 │\n",
       "│ Eudyptes chrysolophus ┆ 38.085655        ┆ -47.17709       ┆ 24  ┆ 12    ┆ 2013 │\n",
       "└───────────────────────┴──────────────────┴─────────────────┴─────┴───────┴──────┘"
      ]
     },
     "execution_count": 11,
     "metadata": {},
     "output_type": "execute_result"
    }
   ],
   "source": [
    "pingüino = pl.read_csv(\"../../data/penguin_data.csv\")\n",
    "pingüino"
   ]
  },
  {
   "cell_type": "code",
   "execution_count": 12,
   "metadata": {},
   "outputs": [
    {
     "name": "stdout",
     "output_type": "stream",
     "text": [
      "el mas viejo\n",
      "day 1\n",
      "month 1\n",
      "year 1999\n",
      "el mas actual\n",
      "day 24\n",
      "month 12\n",
      "year 2013\n"
     ]
    }
   ],
   "source": [
    "print(\"el mas viejo\")\n",
    "print(\"day\", pingüino.head(1)[\"day\"].to_list()[0])\n",
    "print(\"month\", pingüino.head(1)[\"month\"].to_list()[0])\n",
    "print(\"year\", pingüino.head(1)[\"year\"].to_list()[0])\n",
    "print(\"el mas actual\")\n",
    "print(\"day\", pingüino.tail(1)[\"day\"].to_list()[0])\n",
    "print(\"month\", pingüino.tail(1)[\"month\"].to_list()[0])\n",
    "print(\"year\", pingüino.tail(1)[\"year\"].to_list()[0])"
   ]
  }
 ],
 "metadata": {
  "kernelspec": {
   "display_name": "proy3",
   "language": "python",
   "name": "python3"
  },
  "language_info": {
   "codemirror_mode": {
    "name": "ipython",
    "version": 3
   },
   "file_extension": ".py",
   "mimetype": "text/x-python",
   "name": "python",
   "nbconvert_exporter": "python",
   "pygments_lexer": "ipython3",
   "version": "3.12.9"
  }
 },
 "nbformat": 4,
 "nbformat_minor": 2
}
