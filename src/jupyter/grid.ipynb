{
 "cells": [
  {
   "cell_type": "markdown",
   "metadata": {},
   "source": [
    "# Pasar la representación de tracking a grid"
   ]
  },
  {
   "cell_type": "code",
   "execution_count": 1,
   "metadata": {},
   "outputs": [],
   "source": [
    "import polars as pl"
   ]
  },
  {
   "cell_type": "code",
   "execution_count": 2,
   "metadata": {},
   "outputs": [],
   "source": [
    "tracking = pl.scan_csv(\"../../data/dataset_proy.csv\", separator=\"\\t\")"
   ]
  },
  {
   "cell_type": "code",
   "execution_count": null,
   "metadata": {},
   "outputs": [],
   "source": [
    "tracking = tracking.filter(pl.col(\"year\") >= )\n",
    "foca = tracking.collect()"
   ]
  },
  {
   "cell_type": "markdown",
   "metadata": {},
   "source": [
    "Ejemplo"
   ]
  },
  {
   "cell_type": "code",
   "execution_count": null,
   "metadata": {},
   "outputs": [],
   "source": [
    "import polars as pl\n",
    "\n",
    "# Simulación de datos: latitud, longitud y fecha\n",
    "df = pl.DataFrame({\n",
    "    \"lat\": [12.1, 12.15, 12.8, 13.0, 12.05, 12.9],\n",
    "    \"lon\": [-85.1, -85.1, -85.8, -85.0, -85.05, -85.9],\n",
    "    \"fecha\": [\"2023-01-01\", \"2023-01-01\", \"2023-01-02\", \"2023-01-02\", \"2023-01-01\", \"2023-01-02\"]\n",
    "})\n",
    "\n",
    "# Definir el tamaño de la celda del grid\n",
    "grid_size = 0.1\n",
    "\n",
    "# Convertir coordenadas a índice de celda\n",
    "df = df.with_columns([\n",
    "    ((pl.col(\"lat\") / grid_size).floor() * grid_size).alias(\"lat_grid\"),\n",
    "    ((pl.col(\"lon\") / grid_size).floor() * grid_size).alias(\"lon_grid\")\n",
    "])\n",
    "\n",
    "# Contar observaciones por celda y fecha\n",
    "grid_counts = df.group_by([\"fecha\", \"lat_grid\", \"lon_grid\"]).agg(\n",
    "    pl.len().alias(\"count\")\n",
    ")\n",
    "\n",
    "print(grid_counts)"
   ]
  }
 ],
 "metadata": {
  "kernelspec": {
   "display_name": "proy",
   "language": "python",
   "name": "python3"
  },
  "language_info": {
   "codemirror_mode": {
    "name": "ipython",
    "version": 3
   },
   "file_extension": ".py",
   "mimetype": "text/x-python",
   "name": "python",
   "nbconvert_exporter": "python",
   "pygments_lexer": "ipython3",
   "version": "3.9.21"
  }
 },
 "nbformat": 4,
 "nbformat_minor": 2
}
