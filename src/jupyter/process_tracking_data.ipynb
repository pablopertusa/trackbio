{
 "cells": [
  {
   "cell_type": "markdown",
   "metadata": {},
   "source": [
    "# Process tracking data"
   ]
  },
  {
   "cell_type": "code",
   "execution_count": null,
   "metadata": {},
   "outputs": [],
   "source": [
    "import polars as pl"
   ]
  },
  {
   "cell_type": "code",
   "execution_count": 2,
   "metadata": {},
   "outputs": [],
   "source": [
    "schema = {\n",
    "    \"individual_id\": pl.String,\n",
    "    \"abbreviated_name\": pl.Utf8,\n",
    "    \"date\": pl.Datetime,\n",
    "    \"decimal_longitude\": pl.Float64,\n",
    "    \"decimal_latitude\": pl.Float64,\n",
    "    \"longitude_se\": pl.Float64,\n",
    "    \"latitude_se\": pl.Float64,\n",
    "}"
   ]
  },
  {
   "cell_type": "code",
   "execution_count": 3,
   "metadata": {},
   "outputs": [],
   "source": [
    "data = pl.read_csv(\"../../data/foca.csv\", schema=schema)\n",
    "data = data.drop([\"longitude_se\", \"latitude_se\", \"abbreviated_name\"])"
   ]
  },
  {
   "cell_type": "code",
   "execution_count": null,
   "metadata": {},
   "outputs": [],
   "source": [
    "data_processed = (\n",
    "    data\n",
    "    .with_columns(pl.col(\"date\").dt.year().alias(\"year\"))\n",
    "    .with_columns(pl.col(\"date\").dt.month().alias(\"month\"))\n",
    "    .with_columns(pl.col(\"date\").dt.day().alias(\"day\"))\n",
    "    .with_columns(pl.col(\"date\").dt.hour().alias(\"hour\"))\n",
    ")"
   ]
  },
  {
   "cell_type": "markdown",
   "metadata": {},
   "source": [
    "## Parse date"
   ]
  },
  {
   "cell_type": "code",
   "execution_count": null,
   "metadata": {},
   "outputs": [],
   "source": [
    "from datetime import datetime\n",
    "\n",
    "# Format date according to the specification\n",
    "data_processed = (\n",
    "    data_processed\n",
    "    .with_columns(\n",
    "        pl.col(\"date\").map_elements(\n",
    "            lambda x: datetime.strftime(x, \"%Y-%m-%dT00:00:00\"), \n",
    "            return_dtype=pl.String\n",
    "        )\n",
    "    )\n",
    ")"
   ]
  },
  {
   "cell_type": "markdown",
   "metadata": {},
   "source": [
    "## Write"
   ]
  },
  {
   "cell_type": "code",
   "execution_count": 11,
   "metadata": {},
   "outputs": [],
   "source": [
    "data_processed.write_csv(\"../../data/foca_procesado.csv\")"
   ]
  },
  {
   "cell_type": "code",
   "execution_count": null,
   "metadata": {},
   "outputs": [],
   "source": [
    "schema = {\n",
    "    \"individual_id\": pl.String,\n",
    "    \"date\": pl.String,\n",
    "    \"decimal_longitude\": pl.Float64,\n",
    "    \"decimal_latitude\": pl.Float64,\n",
    "    \"year\": pl.Int32,\n",
    "    \"month\": pl.Int8,\n",
    "    \"day\": pl.Int8,\n",
    "    \"hour\": pl.Int8,\n",
    "}\n",
    "\n",
    "data = pl.read_csv(\"../../data/foca_procesado.csv\", schema=schema)\n",
    "data = data.drop(\"individual_id\")\n",
    "data = data.rename({\"decimal_longitude\": \"longitude\", \"decimal_latitude\": \"latitude\"})\n",
    "data = data.filter(pl.col(\"longitude\") <= 120) # Outliers"
   ]
  },
  {
   "cell_type": "code",
   "execution_count": 7,
   "metadata": {},
   "outputs": [],
   "source": [
    "data.write_csv(\"../../data/datos_foca.csv\")"
   ]
  }
 ],
 "metadata": {
  "kernelspec": {
   "display_name": "ds",
   "language": "python",
   "name": "python3"
  },
  "language_info": {
   "codemirror_mode": {
    "name": "ipython",
    "version": 3
   },
   "file_extension": ".py",
   "mimetype": "text/x-python",
   "name": "python",
   "nbconvert_exporter": "python",
   "pygments_lexer": "ipython3",
   "version": "3.9.21"
  }
 },
 "nbformat": 4,
 "nbformat_minor": 2
}
