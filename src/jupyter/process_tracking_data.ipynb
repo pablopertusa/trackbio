{
 "cells": [
  {
   "cell_type": "code",
   "execution_count": 26,
   "metadata": {},
   "outputs": [],
   "source": [
    "import polars as pl\n",
    "import numpy as np"
   ]
  },
  {
   "cell_type": "code",
   "execution_count": 27,
   "metadata": {},
   "outputs": [],
   "source": [
    "data = pl.read_csv(\"../../data/animals.csv\")\n",
    "data = data.drop([\"longitude_se\", \"latitude_se\", \"abbreviated_name\"])"
   ]
  },
  {
   "cell_type": "code",
   "execution_count": 28,
   "metadata": {},
   "outputs": [],
   "source": [
    "from datetime import datetime\n",
    "\n",
    "data = (\n",
    "    data\n",
    "    .with_columns(pl.col(\"date\").map_elements(lambda x: datetime.strptime(x, \"%Y-%m-%d %H:%M:%S\").year, return_dtype=int).alias(\"year\"))\n",
    "    .with_columns(pl.col(\"date\").map_elements(lambda x: datetime.strptime(x, \"%Y-%m-%d %H:%M:%S\").month, return_dtype=int).alias(\"month\"))\n",
    "    .with_columns(pl.col(\"date\").map_elements(lambda x: datetime.strptime(x, \"%Y-%m-%d %H:%M:%S\").day, return_dtype=int).alias(\"day\"))\n",
    "    .with_columns(pl.col(\"date\").map_elements(lambda x: datetime.strptime(x, \"%Y-%m-%d %H:%M:%S\").hour, return_dtype=int).alias(\"hour\"))\n",
    ")"
   ]
  },
  {
   "cell_type": "code",
   "execution_count": 29,
   "metadata": {},
   "outputs": [],
   "source": [
    "data_processed = (\n",
    "    data\n",
    "    .sort(by = \"hour\")\n",
    "    .group_by([\"individual_id\", \"year\", \"month\", \"day\"])\n",
    "    .agg(pl.all().last())\n",
    ")\n",
    "data_processed = data_processed.sort(by=[\"year\", \"month\", \"day\", \"hour\", \"individual_id\"], descending=[False, False, False, False, False])"
   ]
  },
  {
   "cell_type": "code",
   "execution_count": 30,
   "metadata": {},
   "outputs": [],
   "source": [
    "def haversine(lat1, lon1, lat2, lon2):\n",
    "    R = 6371  # Radio de la Tierra en km\n",
    "    lat1, lon1, lat2, lon2 = map(np.radians, [lat1, lon1, lat2, lon2])\n",
    "    dlat = lat2 - lat1\n",
    "    dlon = lon2 - lon1\n",
    "    a = np.sin(dlat/2)**2 + np.cos(lat1) * np.cos(lat2) * np.sin(dlon/2)**2\n",
    "    c = 2 * np.arctan2(np.sqrt(a), np.sqrt(1-a))\n",
    "    return R * c  # Distancia en km\n"
   ]
  },
  {
   "cell_type": "code",
   "execution_count": 31,
   "metadata": {},
   "outputs": [],
   "source": [
    "data_processed = data_processed.with_columns([\n",
    "    pl.col(\"decimal_latitude\").shift(1).over(\"individual_id\").alias(\"prev_lat\"),\n",
    "    pl.col(\"decimal_longitude\").shift(1).over(\"individual_id\").alias(\"prev_lon\")\n",
    "])"
   ]
  },
  {
   "cell_type": "code",
   "execution_count": 32,
   "metadata": {},
   "outputs": [],
   "source": [
    "# Aplicar la función de Haversine usando `map`\n",
    "data_processed = data_processed.with_columns(\n",
    "    pl.struct([\"decimal_latitude\", \"decimal_longitude\", \"prev_lat\", \"prev_lon\"]).map_elements(\n",
    "        lambda row: haversine(row[\"prev_lat\"], row[\"prev_lon\"], row[\"decimal_latitude\"], row[\"decimal_longitude\"])\n",
    "        if row[\"prev_lat\"] is not None else None, return_dtype=pl.Float64\n",
    "    ).alias(\"distance_km\")\n",
    ")"
   ]
  },
  {
   "cell_type": "code",
   "execution_count": 33,
   "metadata": {},
   "outputs": [],
   "source": [
    "data_processed = data_processed.with_columns(\n",
    "    (pl.col(\"decimal_latitude\") - pl.col(\"prev_lat\")).alias(\"delta_lat\"),\n",
    "    (pl.col(\"decimal_longitude\") - pl.col(\"prev_lon\")).alias(\"delta_lon\")\n",
    ")\n",
    "\n",
    "# Calcular el ángulo en radianes y convertirlo a grados\n",
    "data_processed = data_processed.with_columns(\n",
    "    pl.struct([\"delta_lat\", \"delta_lon\"])\n",
    "    .map_elements(lambda d: np.degrees(np.arctan2(d[\"delta_lat\"], d[\"delta_lon\"])) if d[\"delta_lat\"] is not None and d[\"delta_lon\"] is not None else None,\n",
    "                  return_dtype=pl.Float64)\n",
    "    .alias(\"angle_degrees\")\n",
    ")"
   ]
  },
  {
   "cell_type": "code",
   "execution_count": 34,
   "metadata": {},
   "outputs": [],
   "source": [
    "from datetime import datetime\n",
    "\n",
    "# Parsear y formatear la fecha para que se pueda concatenar con los datos de Copernicus\n",
    "data_processed = (\n",
    "    data_processed\n",
    "    .with_columns(\n",
    "        pl.col(\"date\").str.to_datetime(\"%Y-%m-%d %H:%M:%S\").alias(\"date_format\"),\n",
    "    )\n",
    "    .with_columns(\n",
    "        pl.col(\"date_format\").map_elements(\n",
    "            lambda x: datetime.strftime(x, \"%Y-%m-%dT00:00:00\"), \n",
    "            return_dtype=pl.String\n",
    "        )\n",
    "    )\n",
    ")"
   ]
  },
  {
   "cell_type": "code",
   "execution_count": 36,
   "metadata": {},
   "outputs": [],
   "source": [
    "data_processed.write_csv(\"../../data/animals_processed.csv\")"
   ]
  }
 ],
 "metadata": {
  "kernelspec": {
   "display_name": "proy3",
   "language": "python",
   "name": "python3"
  },
  "language_info": {
   "codemirror_mode": {
    "name": "ipython",
    "version": 3
   },
   "file_extension": ".py",
   "mimetype": "text/x-python",
   "name": "python",
   "nbconvert_exporter": "python",
   "pygments_lexer": "ipython3",
   "version": "3.12.9"
  }
 },
 "nbformat": 4,
 "nbformat_minor": 2
}
