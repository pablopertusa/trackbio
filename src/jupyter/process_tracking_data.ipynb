{
 "cells": [
  {
   "cell_type": "code",
   "execution_count": 82,
   "metadata": {},
   "outputs": [],
   "source": [
    "import polars as pl\n",
    "import numpy as np"
   ]
  },
  {
   "cell_type": "code",
   "execution_count": 83,
   "metadata": {},
   "outputs": [],
   "source": [
    "data = pl.read_csv(\"../../data/animals.csv\")\n",
    "data = data.drop([\"longitude_se\", \"latitude_se\", \"abbreviated_name\"])"
   ]
  },
  {
   "cell_type": "code",
   "execution_count": 84,
   "metadata": {},
   "outputs": [],
   "source": [
    "from datetime import datetime\n",
    "\n",
    "data = (\n",
    "    data\n",
    "    .with_columns(pl.col(\"date\").map_elements(lambda x: datetime.strptime(x, \"%Y-%m-%d %H:%M:%S\").year, return_dtype=int).alias(\"year\"))\n",
    "    .with_columns(pl.col(\"date\").map_elements(lambda x: datetime.strptime(x, \"%Y-%m-%d %H:%M:%S\").month, return_dtype=int).alias(\"month\"))\n",
    "    .with_columns(pl.col(\"date\").map_elements(lambda x: datetime.strptime(x, \"%Y-%m-%d %H:%M:%S\").day, return_dtype=int).alias(\"day\"))\n",
    "    .with_columns(pl.col(\"date\").map_elements(lambda x: datetime.strptime(x, \"%Y-%m-%d %H:%M:%S\").hour, return_dtype=int).alias(\"hour\"))\n",
    ")"
   ]
  },
  {
   "cell_type": "code",
   "execution_count": 85,
   "metadata": {},
   "outputs": [],
   "source": [
    "data_processed = (\n",
    "    data\n",
    "    .sort(by = \"hour\")\n",
    "    .group_by([\"individual_id\", \"year\", \"month\", \"day\"])\n",
    "    .agg(pl.all().last())\n",
    ")\n",
    "data_processed = data_processed.sort(by=[\"year\", \"month\", \"day\", \"hour\", \"individual_id\"], descending=[False, False, False, False, False])"
   ]
  },
  {
   "cell_type": "code",
   "execution_count": 86,
   "metadata": {},
   "outputs": [],
   "source": [
    "def haversine(lat1, lon1, lat2, lon2):\n",
    "    R = 6371  # Radio de la Tierra en km\n",
    "    lat1, lon1, lat2, lon2 = map(np.radians, [lat1, lon1, lat2, lon2])\n",
    "    dlat = lat2 - lat1\n",
    "    dlon = lon2 - lon1\n",
    "    a = np.sin(dlat/2)**2 + np.cos(lat1) * np.cos(lat2) * np.sin(dlon/2)**2\n",
    "    c = 2 * np.arctan2(np.sqrt(a), np.sqrt(1-a))\n",
    "    return R * c  # Distancia en km\n"
   ]
  },
  {
   "cell_type": "code",
   "execution_count": 87,
   "metadata": {},
   "outputs": [],
   "source": [
    "data_processed = data_processed.with_columns([\n",
    "    pl.col(\"decimal_latitude\").shift(1).over(\"individual_id\").alias(\"prev_lat\"),\n",
    "    pl.col(\"decimal_longitude\").shift(1).over(\"individual_id\").alias(\"prev_lon\")\n",
    "])"
   ]
  },
  {
   "cell_type": "code",
   "execution_count": 88,
   "metadata": {},
   "outputs": [],
   "source": [
    "# Aplicar la función de Haversine usando `map`\n",
    "data_processed = data_processed.with_columns(\n",
    "    pl.struct([\"decimal_latitude\", \"decimal_longitude\", \"prev_lat\", \"prev_lon\"]).map_elements(\n",
    "        lambda row: haversine(row[\"prev_lat\"], row[\"prev_lon\"], row[\"decimal_latitude\"], row[\"decimal_longitude\"])\n",
    "        if row[\"prev_lat\"] is not None else None, return_dtype=pl.Float64\n",
    "    ).alias(\"distance_km\")\n",
    ")"
   ]
  },
  {
   "cell_type": "code",
   "execution_count": 89,
   "metadata": {},
   "outputs": [
    {
     "data": {
      "text/html": [
       "<div><style>\n",
       ".dataframe > thead > tr,\n",
       ".dataframe > tbody > tr {\n",
       "  text-align: right;\n",
       "  white-space: pre-wrap;\n",
       "}\n",
       "</style>\n",
       "<small>shape: (5, 14)</small><table border=\"1\" class=\"dataframe\"><thead><tr><th>individual_id</th><th>year</th><th>month</th><th>day</th><th>date</th><th>decimal_longitude</th><th>decimal_latitude</th><th>hour</th><th>prev_lat</th><th>prev_lon</th><th>distance_km</th><th>delta_lat</th><th>delta_lon</th><th>angle_degrees</th></tr><tr><td>str</td><td>i64</td><td>i64</td><td>i64</td><td>str</td><td>f64</td><td>f64</td><td>i64</td><td>f64</td><td>f64</td><td>f64</td><td>f64</td><td>f64</td><td>f64</td></tr></thead><tbody><tr><td>&quot;M30_44554&quot;</td><td>2003</td><td>12</td><td>25</td><td>&quot;2003-12-25 22:30:11&quot;</td><td>74.210189</td><td>-53.305201</td><td>22</td><td>null</td><td>null</td><td>null</td><td>null</td><td>null</td><td>null</td></tr><tr><td>&quot;M30_44554&quot;</td><td>2003</td><td>12</td><td>26</td><td>&quot;2003-12-26 22:30:11&quot;</td><td>73.670844</td><td>-53.169558</td><td>22</td><td>-53.305201</td><td>74.210189</td><td>38.933636</td><td>0.135643</td><td>-0.539345</td><td>165.883131</td></tr><tr><td>&quot;M30_44554&quot;</td><td>2003</td><td>12</td><td>27</td><td>&quot;2003-12-27 22:30:11&quot;</td><td>73.828314</td><td>-53.228181</td><td>22</td><td>-53.169558</td><td>73.670844</td><td>12.349546</td><td>-0.058622</td><td>0.157469</td><td>-20.419189</td></tr><tr><td>&quot;M30_44554&quot;</td><td>2003</td><td>12</td><td>28</td><td>&quot;2003-12-28 22:30:11&quot;</td><td>73.56542</td><td>-53.162012</td><td>22</td><td>-53.228181</td><td>73.828314</td><td>18.995692</td><td>0.066169</td><td>-0.262893</td><td>165.87236</td></tr><tr><td>&quot;M30_44554&quot;</td><td>2003</td><td>12</td><td>29</td><td>&quot;2003-12-29 22:30:11&quot;</td><td>74.599275</td><td>-53.36752</td><td>22</td><td>-53.162012</td><td>73.56542</td><td>72.456286</td><td>-0.205508</td><td>1.033855</td><td>-11.242603</td></tr></tbody></table></div>"
      ],
      "text/plain": [
       "shape: (5, 14)\n",
       "┌───────────────┬──────┬───────┬─────┬───┬─────────────┬───────────┬───────────┬───────────────┐\n",
       "│ individual_id ┆ year ┆ month ┆ day ┆ … ┆ distance_km ┆ delta_lat ┆ delta_lon ┆ angle_degrees │\n",
       "│ ---           ┆ ---  ┆ ---   ┆ --- ┆   ┆ ---         ┆ ---       ┆ ---       ┆ ---           │\n",
       "│ str           ┆ i64  ┆ i64   ┆ i64 ┆   ┆ f64         ┆ f64       ┆ f64       ┆ f64           │\n",
       "╞═══════════════╪══════╪═══════╪═════╪═══╪═════════════╪═══════════╪═══════════╪═══════════════╡\n",
       "│ M30_44554     ┆ 2003 ┆ 12    ┆ 25  ┆ … ┆ null        ┆ null      ┆ null      ┆ null          │\n",
       "│ M30_44554     ┆ 2003 ┆ 12    ┆ 26  ┆ … ┆ 38.933636   ┆ 0.135643  ┆ -0.539345 ┆ 165.883131    │\n",
       "│ M30_44554     ┆ 2003 ┆ 12    ┆ 27  ┆ … ┆ 12.349546   ┆ -0.058622 ┆ 0.157469  ┆ -20.419189    │\n",
       "│ M30_44554     ┆ 2003 ┆ 12    ┆ 28  ┆ … ┆ 18.995692   ┆ 0.066169  ┆ -0.262893 ┆ 165.87236     │\n",
       "│ M30_44554     ┆ 2003 ┆ 12    ┆ 29  ┆ … ┆ 72.456286   ┆ -0.205508 ┆ 1.033855  ┆ -11.242603    │\n",
       "└───────────────┴──────┴───────┴─────┴───┴─────────────┴───────────┴───────────┴───────────────┘"
      ]
     },
     "execution_count": 89,
     "metadata": {},
     "output_type": "execute_result"
    }
   ],
   "source": [
    "data_processed = data_processed.with_columns(\n",
    "    (pl.col(\"decimal_latitude\") - pl.col(\"prev_lat\")).alias(\"delta_lat\"),\n",
    "    (pl.col(\"decimal_longitude\") - pl.col(\"prev_lon\")).alias(\"delta_lon\")\n",
    ")\n",
    "\n",
    "# Calcular el ángulo en radianes y convertirlo a grados\n",
    "data_processed = data_processed.with_columns(\n",
    "    pl.struct([\"delta_lat\", \"delta_lon\"])\n",
    "    .map_elements(lambda d: np.degrees(np.arctan2(d[\"delta_lat\"], d[\"delta_lon\"])) if d[\"delta_lat\"] is not None and d[\"delta_lon\"] is not None else None,\n",
    "                  return_dtype=pl.Float64)\n",
    "    .alias(\"angle_degrees\")\n",
    ")\n",
    "data_processed.filter(pl.col(\"individual_id\") == \"M30_44554\").head()"
   ]
  }
 ],
 "metadata": {
  "kernelspec": {
   "display_name": "proy3",
   "language": "python",
   "name": "python3"
  },
  "language_info": {
   "codemirror_mode": {
    "name": "ipython",
    "version": 3
   },
   "file_extension": ".py",
   "mimetype": "text/x-python",
   "name": "python",
   "nbconvert_exporter": "python",
   "pygments_lexer": "ipython3",
   "version": "3.12.9"
  }
 },
 "nbformat": 4,
 "nbformat_minor": 2
}
